{
 "cells": [
  {
   "cell_type": "code",
   "execution_count": 1,
   "id": "26086de9",
   "metadata": {},
   "outputs": [],
   "source": [
    "# import the libraries \n",
    "\n",
    "import pandas as pd\n",
    "import numpy as np\n",
    "import sqlite3\n",
    "import seaborn as sns\n",
    "import matplotlib.pyplot as plt"
   ]
  },
  {
   "cell_type": "code",
   "execution_count": 2,
   "id": "83784995",
   "metadata": {},
   "outputs": [],
   "source": [
    "# connect to database\n",
    "\n",
    "conn = sqlite3.connect('../data/prod_sample.db')"
   ]
  },
  {
   "cell_type": "code",
   "execution_count": 3,
   "id": "e84ea231",
   "metadata": {},
   "outputs": [
    {
     "name": "stdout",
     "output_type": "stream",
     "text": [
      "[('stock_description',), ('online_retail_history',)]\n"
     ]
    }
   ],
   "source": [
    "# identify tables in database\n",
    "\n",
    "cursor = conn.cursor()\n",
    "cursor.execute(\"SELECT name FROM sqlite_master WHERE type='table';\")\n",
    "print(cursor.fetchall())"
   ]
  },
  {
   "cell_type": "code",
   "execution_count": 4,
   "id": "ecc35f84",
   "metadata": {},
   "outputs": [],
   "source": [
    "# write a sql query that extracts the data from the data base\n",
    "\n",
    "query = \"\"\"\n",
    "select *\n",
    "from online_retail_history\n",
    "where customerid is not null\n",
    "\"\"\"\n",
    "\n",
    "online_retail_history = pd.read_sql(query, conn)"
   ]
  },
  {
   "cell_type": "code",
   "execution_count": 5,
   "id": "c520efb7",
   "metadata": {},
   "outputs": [
    {
     "data": {
      "text/html": [
       "<div>\n",
       "<style scoped>\n",
       "    .dataframe tbody tr th:only-of-type {\n",
       "        vertical-align: middle;\n",
       "    }\n",
       "\n",
       "    .dataframe tbody tr th {\n",
       "        vertical-align: top;\n",
       "    }\n",
       "\n",
       "    .dataframe thead th {\n",
       "        text-align: right;\n",
       "    }\n",
       "</style>\n",
       "<table border=\"1\" class=\"dataframe\">\n",
       "  <thead>\n",
       "    <tr style=\"text-align: right;\">\n",
       "      <th></th>\n",
       "      <th>Invoice</th>\n",
       "      <th>StockCode</th>\n",
       "      <th>Quantity</th>\n",
       "      <th>InvoiceDate</th>\n",
       "      <th>Price</th>\n",
       "      <th>CustomerID</th>\n",
       "      <th>Country</th>\n",
       "    </tr>\n",
       "  </thead>\n",
       "  <tbody>\n",
       "    <tr>\n",
       "      <th>0</th>\n",
       "      <td>536365</td>\n",
       "      <td>85123A</td>\n",
       "      <td>6</td>\n",
       "      <td>2010-12-01 08:26:00</td>\n",
       "      <td>2.55</td>\n",
       "      <td>u1785</td>\n",
       "      <td>United Kingdom</td>\n",
       "    </tr>\n",
       "    <tr>\n",
       "      <th>1</th>\n",
       "      <td>536365</td>\n",
       "      <td>71053</td>\n",
       "      <td>6</td>\n",
       "      <td>2010-12-01 08:26:00</td>\n",
       "      <td>3.39</td>\n",
       "      <td>u1785</td>\n",
       "      <td>United Kingdom</td>\n",
       "    </tr>\n",
       "    <tr>\n",
       "      <th>2</th>\n",
       "      <td>536365</td>\n",
       "      <td>84406B</td>\n",
       "      <td>8</td>\n",
       "      <td>2010-12-01 08:26:00</td>\n",
       "      <td>2.75</td>\n",
       "      <td>u1785</td>\n",
       "      <td>United Kingdom</td>\n",
       "    </tr>\n",
       "    <tr>\n",
       "      <th>3</th>\n",
       "      <td>536365</td>\n",
       "      <td>84029G</td>\n",
       "      <td>6</td>\n",
       "      <td>2010-12-01 08:26:00</td>\n",
       "      <td>3.39</td>\n",
       "      <td>u1785</td>\n",
       "      <td>United Kingdom</td>\n",
       "    </tr>\n",
       "    <tr>\n",
       "      <th>4</th>\n",
       "      <td>536365</td>\n",
       "      <td>84029E</td>\n",
       "      <td>6</td>\n",
       "      <td>2010-12-01 08:26:00</td>\n",
       "      <td>3.39</td>\n",
       "      <td>u1785</td>\n",
       "      <td>United Kingdom</td>\n",
       "    </tr>\n",
       "    <tr>\n",
       "      <th>...</th>\n",
       "      <td>...</td>\n",
       "      <td>...</td>\n",
       "      <td>...</td>\n",
       "      <td>...</td>\n",
       "      <td>...</td>\n",
       "      <td>...</td>\n",
       "      <td>...</td>\n",
       "    </tr>\n",
       "    <tr>\n",
       "      <th>406825</th>\n",
       "      <td>581587</td>\n",
       "      <td>22899</td>\n",
       "      <td>6</td>\n",
       "      <td>2011-12-09 12:50:00</td>\n",
       "      <td>2.10</td>\n",
       "      <td>u1268</td>\n",
       "      <td>France</td>\n",
       "    </tr>\n",
       "    <tr>\n",
       "      <th>406826</th>\n",
       "      <td>581587</td>\n",
       "      <td>23254</td>\n",
       "      <td>4</td>\n",
       "      <td>2011-12-09 12:50:00</td>\n",
       "      <td>4.15</td>\n",
       "      <td>u1268</td>\n",
       "      <td>France</td>\n",
       "    </tr>\n",
       "    <tr>\n",
       "      <th>406827</th>\n",
       "      <td>581587</td>\n",
       "      <td>23255</td>\n",
       "      <td>4</td>\n",
       "      <td>2011-12-09 12:50:00</td>\n",
       "      <td>4.15</td>\n",
       "      <td>u1268</td>\n",
       "      <td>France</td>\n",
       "    </tr>\n",
       "    <tr>\n",
       "      <th>406828</th>\n",
       "      <td>581587</td>\n",
       "      <td>22138</td>\n",
       "      <td>3</td>\n",
       "      <td>2011-12-09 12:50:00</td>\n",
       "      <td>4.95</td>\n",
       "      <td>u1268</td>\n",
       "      <td>France</td>\n",
       "    </tr>\n",
       "    <tr>\n",
       "      <th>406829</th>\n",
       "      <td>581587</td>\n",
       "      <td>POST</td>\n",
       "      <td>1</td>\n",
       "      <td>2011-12-09 12:50:00</td>\n",
       "      <td>18.00</td>\n",
       "      <td>u1268</td>\n",
       "      <td>France</td>\n",
       "    </tr>\n",
       "  </tbody>\n",
       "</table>\n",
       "<p>406830 rows × 7 columns</p>\n",
       "</div>"
      ],
      "text/plain": [
       "       Invoice StockCode  Quantity          InvoiceDate  Price CustomerID   \n",
       "0       536365    85123A         6  2010-12-01 08:26:00   2.55      u1785  \\\n",
       "1       536365     71053         6  2010-12-01 08:26:00   3.39      u1785   \n",
       "2       536365    84406B         8  2010-12-01 08:26:00   2.75      u1785   \n",
       "3       536365    84029G         6  2010-12-01 08:26:00   3.39      u1785   \n",
       "4       536365    84029E         6  2010-12-01 08:26:00   3.39      u1785   \n",
       "...        ...       ...       ...                  ...    ...        ...   \n",
       "406825  581587     22899         6  2011-12-09 12:50:00   2.10      u1268   \n",
       "406826  581587     23254         4  2011-12-09 12:50:00   4.15      u1268   \n",
       "406827  581587     23255         4  2011-12-09 12:50:00   4.15      u1268   \n",
       "406828  581587     22138         3  2011-12-09 12:50:00   4.95      u1268   \n",
       "406829  581587      POST         1  2011-12-09 12:50:00  18.00      u1268   \n",
       "\n",
       "               Country  \n",
       "0       United Kingdom  \n",
       "1       United Kingdom  \n",
       "2       United Kingdom  \n",
       "3       United Kingdom  \n",
       "4       United Kingdom  \n",
       "...                ...  \n",
       "406825          France  \n",
       "406826          France  \n",
       "406827          France  \n",
       "406828          France  \n",
       "406829          France  \n",
       "\n",
       "[406830 rows x 7 columns]"
      ]
     },
     "execution_count": 5,
     "metadata": {},
     "output_type": "execute_result"
    }
   ],
   "source": [
    "online_retail_history"
   ]
  },
  {
   "cell_type": "code",
   "execution_count": 6,
   "id": "432fcf7f",
   "metadata": {},
   "outputs": [
    {
     "name": "stdout",
     "output_type": "stream",
     "text": [
      "<class 'pandas.core.frame.DataFrame'>\n",
      "RangeIndex: 406830 entries, 0 to 406829\n",
      "Data columns (total 7 columns):\n",
      " #   Column       Non-Null Count   Dtype  \n",
      "---  ------       --------------   -----  \n",
      " 0   Invoice      406830 non-null  object \n",
      " 1   StockCode    406830 non-null  object \n",
      " 2   Quantity     406830 non-null  int64  \n",
      " 3   InvoiceDate  406830 non-null  object \n",
      " 4   Price        406830 non-null  float64\n",
      " 5   CustomerID   406830 non-null  object \n",
      " 6   Country      406830 non-null  object \n",
      "dtypes: float64(1), int64(1), object(5)\n",
      "memory usage: 21.7+ MB\n"
     ]
    }
   ],
   "source": [
    "# structure of the data\n",
    "\n",
    "online_retail_history.info()\n",
    "\n",
    "# we have 5 variables with data type object and 2 numerical variables\n",
    "# invoice date should have the data tpe datetime"
   ]
  },
  {
   "cell_type": "code",
   "execution_count": 7,
   "id": "09ae0531",
   "metadata": {},
   "outputs": [
    {
     "data": {
      "text/html": [
       "<div>\n",
       "<style scoped>\n",
       "    .dataframe tbody tr th:only-of-type {\n",
       "        vertical-align: middle;\n",
       "    }\n",
       "\n",
       "    .dataframe tbody tr th {\n",
       "        vertical-align: top;\n",
       "    }\n",
       "\n",
       "    .dataframe thead th {\n",
       "        text-align: right;\n",
       "    }\n",
       "</style>\n",
       "<table border=\"1\" class=\"dataframe\">\n",
       "  <thead>\n",
       "    <tr style=\"text-align: right;\">\n",
       "      <th></th>\n",
       "      <th>Quantity</th>\n",
       "      <th>Price</th>\n",
       "    </tr>\n",
       "  </thead>\n",
       "  <tbody>\n",
       "    <tr>\n",
       "      <th>count</th>\n",
       "      <td>406830.000000</td>\n",
       "      <td>406830.000000</td>\n",
       "    </tr>\n",
       "    <tr>\n",
       "      <th>mean</th>\n",
       "      <td>12.061276</td>\n",
       "      <td>3.460507</td>\n",
       "    </tr>\n",
       "    <tr>\n",
       "      <th>std</th>\n",
       "      <td>248.693065</td>\n",
       "      <td>69.315080</td>\n",
       "    </tr>\n",
       "    <tr>\n",
       "      <th>min</th>\n",
       "      <td>-80995.000000</td>\n",
       "      <td>0.000000</td>\n",
       "    </tr>\n",
       "    <tr>\n",
       "      <th>25%</th>\n",
       "      <td>2.000000</td>\n",
       "      <td>1.250000</td>\n",
       "    </tr>\n",
       "    <tr>\n",
       "      <th>50%</th>\n",
       "      <td>5.000000</td>\n",
       "      <td>1.950000</td>\n",
       "    </tr>\n",
       "    <tr>\n",
       "      <th>75%</th>\n",
       "      <td>12.000000</td>\n",
       "      <td>3.750000</td>\n",
       "    </tr>\n",
       "    <tr>\n",
       "      <th>max</th>\n",
       "      <td>80995.000000</td>\n",
       "      <td>38970.000000</td>\n",
       "    </tr>\n",
       "  </tbody>\n",
       "</table>\n",
       "</div>"
      ],
      "text/plain": [
       "            Quantity          Price\n",
       "count  406830.000000  406830.000000\n",
       "mean       12.061276       3.460507\n",
       "std       248.693065      69.315080\n",
       "min    -80995.000000       0.000000\n",
       "25%         2.000000       1.250000\n",
       "50%         5.000000       1.950000\n",
       "75%        12.000000       3.750000\n",
       "max     80995.000000   38970.000000"
      ]
     },
     "execution_count": 7,
     "metadata": {},
     "output_type": "execute_result"
    }
   ],
   "source": [
    "# summary statistics for price and quantity\n",
    "\n",
    "online_retail_history.describe()"
   ]
  },
  {
   "cell_type": "code",
   "execution_count": 8,
   "id": "88f6ed91",
   "metadata": {},
   "outputs": [
    {
     "data": {
      "text/html": [
       "<div>\n",
       "<style scoped>\n",
       "    .dataframe tbody tr th:only-of-type {\n",
       "        vertical-align: middle;\n",
       "    }\n",
       "\n",
       "    .dataframe tbody tr th {\n",
       "        vertical-align: top;\n",
       "    }\n",
       "\n",
       "    .dataframe thead th {\n",
       "        text-align: right;\n",
       "    }\n",
       "</style>\n",
       "<table border=\"1\" class=\"dataframe\">\n",
       "  <thead>\n",
       "    <tr style=\"text-align: right;\">\n",
       "      <th></th>\n",
       "      <th>Invoice</th>\n",
       "      <th>StockCode</th>\n",
       "      <th>Quantity</th>\n",
       "      <th>InvoiceDate</th>\n",
       "      <th>Price</th>\n",
       "      <th>CustomerID</th>\n",
       "      <th>Country</th>\n",
       "    </tr>\n",
       "  </thead>\n",
       "  <tbody>\n",
       "    <tr>\n",
       "      <th>141</th>\n",
       "      <td>C536379</td>\n",
       "      <td>D</td>\n",
       "      <td>-1</td>\n",
       "      <td>2010-12-01 09:41:00</td>\n",
       "      <td>27.50</td>\n",
       "      <td>u14527</td>\n",
       "      <td>United Kingdom</td>\n",
       "    </tr>\n",
       "    <tr>\n",
       "      <th>154</th>\n",
       "      <td>C536383</td>\n",
       "      <td>35004C</td>\n",
       "      <td>-1</td>\n",
       "      <td>2010-12-01 09:49:00</td>\n",
       "      <td>4.65</td>\n",
       "      <td>u15311</td>\n",
       "      <td>United Kingdom</td>\n",
       "    </tr>\n",
       "    <tr>\n",
       "      <th>235</th>\n",
       "      <td>C536391</td>\n",
       "      <td>22556</td>\n",
       "      <td>-12</td>\n",
       "      <td>2010-12-01 10:24:00</td>\n",
       "      <td>1.65</td>\n",
       "      <td>u17548</td>\n",
       "      <td>United Kingdom</td>\n",
       "    </tr>\n",
       "    <tr>\n",
       "      <th>236</th>\n",
       "      <td>C536391</td>\n",
       "      <td>21984</td>\n",
       "      <td>-24</td>\n",
       "      <td>2010-12-01 10:24:00</td>\n",
       "      <td>0.29</td>\n",
       "      <td>u17548</td>\n",
       "      <td>United Kingdom</td>\n",
       "    </tr>\n",
       "    <tr>\n",
       "      <th>237</th>\n",
       "      <td>C536391</td>\n",
       "      <td>21983</td>\n",
       "      <td>-24</td>\n",
       "      <td>2010-12-01 10:24:00</td>\n",
       "      <td>0.29</td>\n",
       "      <td>u17548</td>\n",
       "      <td>United Kingdom</td>\n",
       "    </tr>\n",
       "    <tr>\n",
       "      <th>...</th>\n",
       "      <td>...</td>\n",
       "      <td>...</td>\n",
       "      <td>...</td>\n",
       "      <td>...</td>\n",
       "      <td>...</td>\n",
       "      <td>...</td>\n",
       "      <td>...</td>\n",
       "    </tr>\n",
       "    <tr>\n",
       "      <th>406377</th>\n",
       "      <td>C581490</td>\n",
       "      <td>23144</td>\n",
       "      <td>-11</td>\n",
       "      <td>2011-12-09 09:57:00</td>\n",
       "      <td>0.83</td>\n",
       "      <td>u14397</td>\n",
       "      <td>United Kingdom</td>\n",
       "    </tr>\n",
       "    <tr>\n",
       "      <th>406461</th>\n",
       "      <td>C581499</td>\n",
       "      <td>M</td>\n",
       "      <td>-1</td>\n",
       "      <td>2011-12-09 10:28:00</td>\n",
       "      <td>224.69</td>\n",
       "      <td>u15498</td>\n",
       "      <td>United Kingdom</td>\n",
       "    </tr>\n",
       "    <tr>\n",
       "      <th>406635</th>\n",
       "      <td>C581568</td>\n",
       "      <td>21258</td>\n",
       "      <td>-5</td>\n",
       "      <td>2011-12-09 11:57:00</td>\n",
       "      <td>10.95</td>\n",
       "      <td>u15311</td>\n",
       "      <td>United Kingdom</td>\n",
       "    </tr>\n",
       "    <tr>\n",
       "      <th>406636</th>\n",
       "      <td>C581569</td>\n",
       "      <td>84978</td>\n",
       "      <td>-1</td>\n",
       "      <td>2011-12-09 11:58:00</td>\n",
       "      <td>1.25</td>\n",
       "      <td>u17315</td>\n",
       "      <td>United Kingdom</td>\n",
       "    </tr>\n",
       "    <tr>\n",
       "      <th>406637</th>\n",
       "      <td>C581569</td>\n",
       "      <td>20979</td>\n",
       "      <td>-5</td>\n",
       "      <td>2011-12-09 11:58:00</td>\n",
       "      <td>1.25</td>\n",
       "      <td>u17315</td>\n",
       "      <td>United Kingdom</td>\n",
       "    </tr>\n",
       "  </tbody>\n",
       "</table>\n",
       "<p>8905 rows × 7 columns</p>\n",
       "</div>"
      ],
      "text/plain": [
       "        Invoice StockCode  Quantity          InvoiceDate   Price CustomerID   \n",
       "141     C536379         D        -1  2010-12-01 09:41:00   27.50     u14527  \\\n",
       "154     C536383    35004C        -1  2010-12-01 09:49:00    4.65     u15311   \n",
       "235     C536391     22556       -12  2010-12-01 10:24:00    1.65     u17548   \n",
       "236     C536391     21984       -24  2010-12-01 10:24:00    0.29     u17548   \n",
       "237     C536391     21983       -24  2010-12-01 10:24:00    0.29     u17548   \n",
       "...         ...       ...       ...                  ...     ...        ...   \n",
       "406377  C581490     23144       -11  2011-12-09 09:57:00    0.83     u14397   \n",
       "406461  C581499         M        -1  2011-12-09 10:28:00  224.69     u15498   \n",
       "406635  C581568     21258        -5  2011-12-09 11:57:00   10.95     u15311   \n",
       "406636  C581569     84978        -1  2011-12-09 11:58:00    1.25     u17315   \n",
       "406637  C581569     20979        -5  2011-12-09 11:58:00    1.25     u17315   \n",
       "\n",
       "               Country  \n",
       "141     United Kingdom  \n",
       "154     United Kingdom  \n",
       "235     United Kingdom  \n",
       "236     United Kingdom  \n",
       "237     United Kingdom  \n",
       "...                ...  \n",
       "406377  United Kingdom  \n",
       "406461  United Kingdom  \n",
       "406635  United Kingdom  \n",
       "406636  United Kingdom  \n",
       "406637  United Kingdom  \n",
       "\n",
       "[8905 rows x 7 columns]"
      ]
     },
     "execution_count": 8,
     "metadata": {},
     "output_type": "execute_result"
    }
   ],
   "source": [
    "# examples of rows of data where quantity is less than 0\n",
    "\n",
    "online_retail_history[online_retail_history.Quantity < 0]"
   ]
  },
  {
   "cell_type": "code",
   "execution_count": 9,
   "id": "28102a48",
   "metadata": {
    "scrolled": true
   },
   "outputs": [
    {
     "data": {
      "image/png": "[encoded data removed]",
      "text/plain": [
       "<Figure size 640x480 with 1 Axes>"
      ]
     },
     "metadata": {},
     "output_type": "display_data"
    }
   ],
   "source": [
    "online_retail_history.Price.hist()\n",
    "plt.title(\"The Distribution of Price\");"
   ]
  },
  {
   "cell_type": "code",
   "execution_count": 10,
   "id": "25569e93",
   "metadata": {},
   "outputs": [],
   "source": [
    "# removing rows of data where price more than 20 and quantity less than 0\n",
    "\n",
    "query = \"\"\"\n",
    "select *\n",
    "from online_retail_history\n",
    "where customerid is not null\n",
    "    and quantity > 0\n",
    "    and price < 20\n",
    "\"\"\"\n",
    "\n",
    "online_retail_history = pd.read_sql(query, conn)"
   ]
  },
  {
   "cell_type": "code",
   "execution_count": 11,
   "id": "eca7b432",
   "metadata": {},
   "outputs": [
    {
     "data": {
      "text/html": [
       "<div>\n",
       "<style scoped>\n",
       "    .dataframe tbody tr th:only-of-type {\n",
       "        vertical-align: middle;\n",
       "    }\n",
       "\n",
       "    .dataframe tbody tr th {\n",
       "        vertical-align: top;\n",
       "    }\n",
       "\n",
       "    .dataframe thead th {\n",
       "        text-align: right;\n",
       "    }\n",
       "</style>\n",
       "<table border=\"1\" class=\"dataframe\">\n",
       "  <thead>\n",
       "    <tr style=\"text-align: right;\">\n",
       "      <th></th>\n",
       "      <th>Quantity</th>\n",
       "      <th>Price</th>\n",
       "    </tr>\n",
       "  </thead>\n",
       "  <tbody>\n",
       "    <tr>\n",
       "      <th>count</th>\n",
       "      <td>396802.000000</td>\n",
       "      <td>396802.000000</td>\n",
       "    </tr>\n",
       "    <tr>\n",
       "      <th>mean</th>\n",
       "      <td>13.052550</td>\n",
       "      <td>2.807251</td>\n",
       "    </tr>\n",
       "    <tr>\n",
       "      <th>std</th>\n",
       "      <td>180.673988</td>\n",
       "      <td>2.783196</td>\n",
       "    </tr>\n",
       "    <tr>\n",
       "      <th>min</th>\n",
       "      <td>1.000000</td>\n",
       "      <td>0.000000</td>\n",
       "    </tr>\n",
       "    <tr>\n",
       "      <th>25%</th>\n",
       "      <td>2.000000</td>\n",
       "      <td>1.250000</td>\n",
       "    </tr>\n",
       "    <tr>\n",
       "      <th>50%</th>\n",
       "      <td>6.000000</td>\n",
       "      <td>1.950000</td>\n",
       "    </tr>\n",
       "    <tr>\n",
       "      <th>75%</th>\n",
       "      <td>12.000000</td>\n",
       "      <td>3.750000</td>\n",
       "    </tr>\n",
       "    <tr>\n",
       "      <th>max</th>\n",
       "      <td>80995.000000</td>\n",
       "      <td>19.960000</td>\n",
       "    </tr>\n",
       "  </tbody>\n",
       "</table>\n",
       "</div>"
      ],
      "text/plain": [
       "            Quantity          Price\n",
       "count  396802.000000  396802.000000\n",
       "mean       13.052550       2.807251\n",
       "std       180.673988       2.783196\n",
       "min         1.000000       0.000000\n",
       "25%         2.000000       1.250000\n",
       "50%         6.000000       1.950000\n",
       "75%        12.000000       3.750000\n",
       "max     80995.000000      19.960000"
      ]
     },
     "execution_count": 11,
     "metadata": {},
     "output_type": "execute_result"
    }
   ],
   "source": [
    "online_retail_history.describe()"
   ]
  },
  {
   "cell_type": "code",
   "execution_count": 12,
   "id": "14907ccb",
   "metadata": {},
   "outputs": [
    {
     "data": {
      "image/png": "[encoded data removed]",
      "text/plain": [
       "<Figure size 640x480 with 1 Axes>"
      ]
     },
     "metadata": {},
     "output_type": "display_data"
    }
   ],
   "source": [
    "online_retail_history.Price.hist()\n",
    "plt.title(\"The Distribution of Price\");"
   ]
  },
  {
   "cell_type": "code",
   "execution_count": 13,
   "id": "c7392074",
   "metadata": {},
   "outputs": [
    {
     "data": {
      "image/png": "[encoded data removed]",
      "text/plain": [
       "<Figure size 640x480 with 1 Axes>"
      ]
     },
     "metadata": {},
     "output_type": "display_data"
    }
   ],
   "source": [
    "# can use logarithms to transform the data\n",
    "\n",
    "np.log(online_retail_history.Price + 1).hist()\n",
    "plt.title(\"Log transformation of the Price Variable\");"
   ]
  },
  {
   "cell_type": "code",
   "execution_count": 14,
   "id": "d1cef373",
   "metadata": {},
   "outputs": [
    {
     "data": {
      "image/png": "[encoded data removed]",
      "text/plain": [
       "<Figure size 640x480 with 1 Axes>"
      ]
     },
     "metadata": {},
     "output_type": "display_data"
    }
   ],
   "source": [
    "# visualising price as boxplot\n",
    "\n",
    "sns.boxplot(x=online_retail_history.Price)\n",
    "plt.title(\"Boxplot for Price\");"
   ]
  },
  {
   "cell_type": "code",
   "execution_count": 15,
   "id": "a260489f",
   "metadata": {},
   "outputs": [],
   "source": [
    "# calculating the upper bound and lower bound for price\n",
    "\n",
    "q3 = 3.75\n",
    "q1 = 1.25\n",
    "\n",
    "#q3 = np.percentile(online_retail_history.Price, 75)\n",
    "#q1 = np.percentile(online_retail_history.Price, 25)\n",
    "\n",
    "iqr = q3 - q1\n",
    "\n",
    "lb = q1 - 1.5*iqr\n",
    "ub = q3 + 1.5*iqr"
   ]
  },
  {
   "cell_type": "code",
   "execution_count": 16,
   "id": "7b289f1a",
   "metadata": {},
   "outputs": [
    {
     "name": "stdout",
     "output_type": "stream",
     "text": [
      "The lower bound is: -2.5\n",
      "The upper bound is: 7.5\n"
     ]
    }
   ],
   "source": [
    "print(\"The lower bound is:\",lb)\n",
    "print(\"The upper bound is:\",ub)\n"
   ]
  },
  {
   "cell_type": "code",
   "execution_count": 17,
   "id": "12bf1667",
   "metadata": {},
   "outputs": [
    {
     "data": {
      "text/html": [
       "<div>\n",
       "<style scoped>\n",
       "    .dataframe tbody tr th:only-of-type {\n",
       "        vertical-align: middle;\n",
       "    }\n",
       "\n",
       "    .dataframe tbody tr th {\n",
       "        vertical-align: top;\n",
       "    }\n",
       "\n",
       "    .dataframe thead th {\n",
       "        text-align: right;\n",
       "    }\n",
       "</style>\n",
       "<table border=\"1\" class=\"dataframe\">\n",
       "  <thead>\n",
       "    <tr style=\"text-align: right;\">\n",
       "      <th></th>\n",
       "      <th>Invoice</th>\n",
       "      <th>StockCode</th>\n",
       "      <th>Quantity</th>\n",
       "      <th>InvoiceDate</th>\n",
       "      <th>Price</th>\n",
       "      <th>CustomerID</th>\n",
       "      <th>Country</th>\n",
       "    </tr>\n",
       "  </thead>\n",
       "  <tbody>\n",
       "    <tr>\n",
       "      <th>5</th>\n",
       "      <td>536365</td>\n",
       "      <td>22752</td>\n",
       "      <td>2</td>\n",
       "      <td>2010-12-01 08:26:00</td>\n",
       "      <td>7.65</td>\n",
       "      <td>u1785</td>\n",
       "      <td>United Kingdom</td>\n",
       "    </tr>\n",
       "    <tr>\n",
       "      <th>20</th>\n",
       "      <td>536367</td>\n",
       "      <td>22622</td>\n",
       "      <td>2</td>\n",
       "      <td>2010-12-01 08:34:00</td>\n",
       "      <td>9.95</td>\n",
       "      <td>u13047</td>\n",
       "      <td>United Kingdom</td>\n",
       "    </tr>\n",
       "    <tr>\n",
       "      <th>23</th>\n",
       "      <td>536367</td>\n",
       "      <td>21777</td>\n",
       "      <td>4</td>\n",
       "      <td>2010-12-01 08:34:00</td>\n",
       "      <td>7.95</td>\n",
       "      <td>u13047</td>\n",
       "      <td>United Kingdom</td>\n",
       "    </tr>\n",
       "    <tr>\n",
       "      <th>24</th>\n",
       "      <td>536367</td>\n",
       "      <td>48187</td>\n",
       "      <td>4</td>\n",
       "      <td>2010-12-01 08:34:00</td>\n",
       "      <td>7.95</td>\n",
       "      <td>u13047</td>\n",
       "      <td>United Kingdom</td>\n",
       "    </tr>\n",
       "    <tr>\n",
       "      <th>45</th>\n",
       "      <td>536370</td>\n",
       "      <td>POST</td>\n",
       "      <td>3</td>\n",
       "      <td>2010-12-01 08:45:00</td>\n",
       "      <td>18.00</td>\n",
       "      <td>u12583</td>\n",
       "      <td>France</td>\n",
       "    </tr>\n",
       "    <tr>\n",
       "      <th>...</th>\n",
       "      <td>...</td>\n",
       "      <td>...</td>\n",
       "      <td>...</td>\n",
       "      <td>...</td>\n",
       "      <td>...</td>\n",
       "      <td>...</td>\n",
       "      <td>...</td>\n",
       "    </tr>\n",
       "    <tr>\n",
       "      <th>396678</th>\n",
       "      <td>581578</td>\n",
       "      <td>22622</td>\n",
       "      <td>6</td>\n",
       "      <td>2011-12-09 12:16:00</td>\n",
       "      <td>11.95</td>\n",
       "      <td>u12713</td>\n",
       "      <td>Germany</td>\n",
       "    </tr>\n",
       "    <tr>\n",
       "      <th>396723</th>\n",
       "      <td>581579</td>\n",
       "      <td>22941</td>\n",
       "      <td>4</td>\n",
       "      <td>2011-12-09 12:19:00</td>\n",
       "      <td>8.50</td>\n",
       "      <td>u17581</td>\n",
       "      <td>United Kingdom</td>\n",
       "    </tr>\n",
       "    <tr>\n",
       "      <th>396744</th>\n",
       "      <td>581580</td>\n",
       "      <td>22894</td>\n",
       "      <td>2</td>\n",
       "      <td>2011-12-09 12:20:00</td>\n",
       "      <td>9.95</td>\n",
       "      <td>u12748</td>\n",
       "      <td>United Kingdom</td>\n",
       "    </tr>\n",
       "    <tr>\n",
       "      <th>396784</th>\n",
       "      <td>581586</td>\n",
       "      <td>21217</td>\n",
       "      <td>24</td>\n",
       "      <td>2011-12-09 12:49:00</td>\n",
       "      <td>8.95</td>\n",
       "      <td>u13113</td>\n",
       "      <td>United Kingdom</td>\n",
       "    </tr>\n",
       "    <tr>\n",
       "      <th>396801</th>\n",
       "      <td>581587</td>\n",
       "      <td>POST</td>\n",
       "      <td>1</td>\n",
       "      <td>2011-12-09 12:50:00</td>\n",
       "      <td>18.00</td>\n",
       "      <td>u1268</td>\n",
       "      <td>France</td>\n",
       "    </tr>\n",
       "  </tbody>\n",
       "</table>\n",
       "<p>33234 rows × 7 columns</p>\n",
       "</div>"
      ],
      "text/plain": [
       "       Invoice StockCode  Quantity          InvoiceDate  Price CustomerID   \n",
       "5       536365     22752         2  2010-12-01 08:26:00   7.65      u1785  \\\n",
       "20      536367     22622         2  2010-12-01 08:34:00   9.95     u13047   \n",
       "23      536367     21777         4  2010-12-01 08:34:00   7.95     u13047   \n",
       "24      536367     48187         4  2010-12-01 08:34:00   7.95     u13047   \n",
       "45      536370      POST         3  2010-12-01 08:45:00  18.00     u12583   \n",
       "...        ...       ...       ...                  ...    ...        ...   \n",
       "396678  581578     22622         6  2011-12-09 12:16:00  11.95     u12713   \n",
       "396723  581579     22941         4  2011-12-09 12:19:00   8.50     u17581   \n",
       "396744  581580     22894         2  2011-12-09 12:20:00   9.95     u12748   \n",
       "396784  581586     21217        24  2011-12-09 12:49:00   8.95     u13113   \n",
       "396801  581587      POST         1  2011-12-09 12:50:00  18.00      u1268   \n",
       "\n",
       "               Country  \n",
       "5       United Kingdom  \n",
       "20      United Kingdom  \n",
       "23      United Kingdom  \n",
       "24      United Kingdom  \n",
       "45              France  \n",
       "...                ...  \n",
       "396678         Germany  \n",
       "396723  United Kingdom  \n",
       "396744  United Kingdom  \n",
       "396784  United Kingdom  \n",
       "396801          France  \n",
       "\n",
       "[33234 rows x 7 columns]"
      ]
     },
     "execution_count": 17,
     "metadata": {},
     "output_type": "execute_result"
    }
   ],
   "source": [
    "# identifying the rows where price is greater than upper bound\n",
    "\n",
    "online_retail_history[online_retail_history.Price > ub]"
   ]
  },
  {
   "cell_type": "code",
   "execution_count": 18,
   "id": "4bb34570",
   "metadata": {},
   "outputs": [
    {
     "data": {
      "text/plain": [
       "8.375461817228743"
      ]
     },
     "execution_count": 18,
     "metadata": {},
     "output_type": "execute_result"
    }
   ],
   "source": [
    "# approx. 10% of the data has price greater than upper bound\n",
    "\n",
    "online_retail_history[online_retail_history.Price > ub].shape[0]/online_retail_history.shape[0]*100"
   ]
  },
  {
   "cell_type": "code",
   "execution_count": 19,
   "id": "2a6c7985",
   "metadata": {},
   "outputs": [
    {
     "data": {
      "image/png": "[encoded data removed]",
      "text/plain": [
       "<Figure size 640x480 with 1 Axes>"
      ]
     },
     "metadata": {},
     "output_type": "display_data"
    }
   ],
   "source": [
    "# looking \n",
    "\n",
    "online_retail_history.Quantity.hist();"
   ]
  },
  {
   "cell_type": "code",
   "execution_count": 20,
   "id": "320bcf72",
   "metadata": {},
   "outputs": [
    {
     "data": {
      "image/png": "[encoded data removed]",
      "text/plain": [
       "<Figure size 700x250 with 2 Axes>"
      ]
     },
     "metadata": {},
     "output_type": "display_data"
    }
   ],
   "source": [
    "online_retail_history.hist(figsize=(7,2.5));"
   ]
  },
  {
   "cell_type": "code",
   "execution_count": 21,
   "id": "4759ab15",
   "metadata": {},
   "outputs": [
    {
     "data": {
      "image/png": "[encoded data removed]",
      "text/plain": [
       "<Figure size 640x480 with 1 Axes>"
      ]
     },
     "metadata": {},
     "output_type": "display_data"
    }
   ],
   "source": [
    "# boxplot for quantity\n",
    "\n",
    "sns.boxplot(x=online_retail_history.Quantity);"
   ]
  },
  {
   "cell_type": "code",
   "execution_count": 22,
   "id": "57b0ba64",
   "metadata": {},
   "outputs": [
    {
     "data": {
      "text/plain": [
       "count    396802.000000\n",
       "mean         13.052550\n",
       "std         180.673988\n",
       "min           1.000000\n",
       "25%           2.000000\n",
       "50%           6.000000\n",
       "75%          12.000000\n",
       "max       80995.000000\n",
       "Name: Quantity, dtype: float64"
      ]
     },
     "execution_count": 22,
     "metadata": {},
     "output_type": "execute_result"
    }
   ],
   "source": [
    "online_retail_history.Quantity.describe()"
   ]
  },
  {
   "cell_type": "code",
   "execution_count": 23,
   "id": "81bf8bbb",
   "metadata": {},
   "outputs": [
    {
     "name": "stdout",
     "output_type": "stream",
     "text": [
      "10.0\n",
      "The lower bound is: -13.0\n",
      "The upper bound is: 27.0\n"
     ]
    }
   ],
   "source": [
    "# calculate lower and upper bound for quantity\n",
    "\n",
    "# q3 = 12\n",
    "# q1 = 2\n",
    "\n",
    "q3 = np.percentile(online_retail_history.Quantity, 75)\n",
    "q1 = np.percentile(online_retail_history.Quantity, 25)\n",
    "\n",
    "iqr = q3 - q1\n",
    "print(iqr)\n",
    "\n",
    "lb = q1 - 1.5*iqr\n",
    "ub = q3 + 1.5*iqr\n",
    "\n",
    "print(\"The lower bound is:\",lb)\n",
    "print(\"The upper bound is:\",ub)"
   ]
  },
  {
   "cell_type": "code",
   "execution_count": 24,
   "id": "8c704624",
   "metadata": {},
   "outputs": [
    {
     "data": {
      "text/html": [
       "<div>\n",
       "<style scoped>\n",
       "    .dataframe tbody tr th:only-of-type {\n",
       "        vertical-align: middle;\n",
       "    }\n",
       "\n",
       "    .dataframe tbody tr th {\n",
       "        vertical-align: top;\n",
       "    }\n",
       "\n",
       "    .dataframe thead th {\n",
       "        text-align: right;\n",
       "    }\n",
       "</style>\n",
       "<table border=\"1\" class=\"dataframe\">\n",
       "  <thead>\n",
       "    <tr style=\"text-align: right;\">\n",
       "      <th></th>\n",
       "      <th>Invoice</th>\n",
       "      <th>StockCode</th>\n",
       "      <th>Quantity</th>\n",
       "      <th>InvoiceDate</th>\n",
       "      <th>Price</th>\n",
       "      <th>CustomerID</th>\n",
       "      <th>Country</th>\n",
       "    </tr>\n",
       "  </thead>\n",
       "  <tbody>\n",
       "    <tr>\n",
       "      <th>13</th>\n",
       "      <td>536367</td>\n",
       "      <td>84879</td>\n",
       "      <td>32</td>\n",
       "      <td>2010-12-01 08:34:00</td>\n",
       "      <td>1.69</td>\n",
       "      <td>u13047</td>\n",
       "      <td>United Kingdom</td>\n",
       "    </tr>\n",
       "    <tr>\n",
       "      <th>31</th>\n",
       "      <td>536370</td>\n",
       "      <td>10002</td>\n",
       "      <td>48</td>\n",
       "      <td>2010-12-01 08:45:00</td>\n",
       "      <td>0.85</td>\n",
       "      <td>u12583</td>\n",
       "      <td>France</td>\n",
       "    </tr>\n",
       "    <tr>\n",
       "      <th>44</th>\n",
       "      <td>536370</td>\n",
       "      <td>22492</td>\n",
       "      <td>36</td>\n",
       "      <td>2010-12-01 08:45:00</td>\n",
       "      <td>0.65</td>\n",
       "      <td>u12583</td>\n",
       "      <td>France</td>\n",
       "    </tr>\n",
       "    <tr>\n",
       "      <th>46</th>\n",
       "      <td>536371</td>\n",
       "      <td>22086</td>\n",
       "      <td>80</td>\n",
       "      <td>2010-12-01 09:00:00</td>\n",
       "      <td>2.55</td>\n",
       "      <td>u13748</td>\n",
       "      <td>United Kingdom</td>\n",
       "    </tr>\n",
       "    <tr>\n",
       "      <th>65</th>\n",
       "      <td>536374</td>\n",
       "      <td>21258</td>\n",
       "      <td>32</td>\n",
       "      <td>2010-12-01 09:09:00</td>\n",
       "      <td>10.95</td>\n",
       "      <td>u151</td>\n",
       "      <td>United Kingdom</td>\n",
       "    </tr>\n",
       "    <tr>\n",
       "      <th>...</th>\n",
       "      <td>...</td>\n",
       "      <td>...</td>\n",
       "      <td>...</td>\n",
       "      <td>...</td>\n",
       "      <td>...</td>\n",
       "      <td>...</td>\n",
       "      <td>...</td>\n",
       "    </tr>\n",
       "    <tr>\n",
       "      <th>396727</th>\n",
       "      <td>581579</td>\n",
       "      <td>23581</td>\n",
       "      <td>40</td>\n",
       "      <td>2011-12-09 12:19:00</td>\n",
       "      <td>1.79</td>\n",
       "      <td>u17581</td>\n",
       "      <td>United Kingdom</td>\n",
       "    </tr>\n",
       "    <tr>\n",
       "      <th>396757</th>\n",
       "      <td>581583</td>\n",
       "      <td>20725</td>\n",
       "      <td>40</td>\n",
       "      <td>2011-12-09 12:23:00</td>\n",
       "      <td>1.45</td>\n",
       "      <td>u13777</td>\n",
       "      <td>United Kingdom</td>\n",
       "    </tr>\n",
       "    <tr>\n",
       "      <th>396758</th>\n",
       "      <td>581583</td>\n",
       "      <td>85038</td>\n",
       "      <td>36</td>\n",
       "      <td>2011-12-09 12:23:00</td>\n",
       "      <td>1.85</td>\n",
       "      <td>u13777</td>\n",
       "      <td>United Kingdom</td>\n",
       "    </tr>\n",
       "    <tr>\n",
       "      <th>396759</th>\n",
       "      <td>581584</td>\n",
       "      <td>20832</td>\n",
       "      <td>72</td>\n",
       "      <td>2011-12-09 12:25:00</td>\n",
       "      <td>0.72</td>\n",
       "      <td>u13777</td>\n",
       "      <td>United Kingdom</td>\n",
       "    </tr>\n",
       "    <tr>\n",
       "      <th>396760</th>\n",
       "      <td>581584</td>\n",
       "      <td>85038</td>\n",
       "      <td>48</td>\n",
       "      <td>2011-12-09 12:25:00</td>\n",
       "      <td>1.85</td>\n",
       "      <td>u13777</td>\n",
       "      <td>United Kingdom</td>\n",
       "    </tr>\n",
       "  </tbody>\n",
       "</table>\n",
       "<p>25653 rows × 7 columns</p>\n",
       "</div>"
      ],
      "text/plain": [
       "       Invoice StockCode  Quantity          InvoiceDate  Price CustomerID   \n",
       "13      536367     84879        32  2010-12-01 08:34:00   1.69     u13047  \\\n",
       "31      536370     10002        48  2010-12-01 08:45:00   0.85     u12583   \n",
       "44      536370     22492        36  2010-12-01 08:45:00   0.65     u12583   \n",
       "46      536371     22086        80  2010-12-01 09:00:00   2.55     u13748   \n",
       "65      536374     21258        32  2010-12-01 09:09:00  10.95       u151   \n",
       "...        ...       ...       ...                  ...    ...        ...   \n",
       "396727  581579     23581        40  2011-12-09 12:19:00   1.79     u17581   \n",
       "396757  581583     20725        40  2011-12-09 12:23:00   1.45     u13777   \n",
       "396758  581583     85038        36  2011-12-09 12:23:00   1.85     u13777   \n",
       "396759  581584     20832        72  2011-12-09 12:25:00   0.72     u13777   \n",
       "396760  581584     85038        48  2011-12-09 12:25:00   1.85     u13777   \n",
       "\n",
       "               Country  \n",
       "13      United Kingdom  \n",
       "31              France  \n",
       "44              France  \n",
       "46      United Kingdom  \n",
       "65      United Kingdom  \n",
       "...                ...  \n",
       "396727  United Kingdom  \n",
       "396757  United Kingdom  \n",
       "396758  United Kingdom  \n",
       "396759  United Kingdom  \n",
       "396760  United Kingdom  \n",
       "\n",
       "[25653 rows x 7 columns]"
      ]
     },
     "execution_count": 24,
     "metadata": {},
     "output_type": "execute_result"
    }
   ],
   "source": [
    "# 25k rows have quantity greater than the upper bound value\n",
    "\n",
    "online_retail_history[online_retail_history.Quantity > ub]"
   ]
  },
  {
   "cell_type": "code",
   "execution_count": 25,
   "id": "974be0da",
   "metadata": {},
   "outputs": [
    {
     "data": {
      "text/html": [
       "<div>\n",
       "<style scoped>\n",
       "    .dataframe tbody tr th:only-of-type {\n",
       "        vertical-align: middle;\n",
       "    }\n",
       "\n",
       "    .dataframe tbody tr th {\n",
       "        vertical-align: top;\n",
       "    }\n",
       "\n",
       "    .dataframe thead th {\n",
       "        text-align: right;\n",
       "    }\n",
       "</style>\n",
       "<table border=\"1\" class=\"dataframe\">\n",
       "  <thead>\n",
       "    <tr style=\"text-align: right;\">\n",
       "      <th></th>\n",
       "      <th>Quantity</th>\n",
       "      <th>Price</th>\n",
       "    </tr>\n",
       "  </thead>\n",
       "  <tbody>\n",
       "    <tr>\n",
       "      <th>Quantity</th>\n",
       "      <td>1.000000</td>\n",
       "      <td>-0.029261</td>\n",
       "    </tr>\n",
       "    <tr>\n",
       "      <th>Price</th>\n",
       "      <td>-0.029261</td>\n",
       "      <td>1.000000</td>\n",
       "    </tr>\n",
       "  </tbody>\n",
       "</table>\n",
       "</div>"
      ],
      "text/plain": [
       "          Quantity     Price\n",
       "Quantity  1.000000 -0.029261\n",
       "Price    -0.029261  1.000000"
      ]
     },
     "execution_count": 25,
     "metadata": {},
     "output_type": "execute_result"
    }
   ],
   "source": [
    "# code to calculate the correlations\n",
    "\n",
    "online_retail_history.corr(numeric_only = True)"
   ]
  },
  {
   "cell_type": "code",
   "execution_count": 26,
   "id": "c5262de5",
   "metadata": {},
   "outputs": [
    {
     "data": {
      "image/png": "[encoded data removed]",
      "text/plain": [
       "<Figure size 640x480 with 1 Axes>"
      ]
     },
     "metadata": {},
     "output_type": "display_data"
    }
   ],
   "source": [
    "sns.scatterplot(x='Price', y='Quantity', data=online_retail_history)\n",
    "plt.title(\"Relationship between Price and Quantity\");"
   ]
  },
  {
   "cell_type": "code",
   "execution_count": 27,
   "id": "25394ccb",
   "metadata": {},
   "outputs": [
    {
     "data": {
      "text/plain": [
       "Country\n",
       "United Kingdom          353678\n",
       "Germany                   9019\n",
       "France                    8329\n",
       "EIRE                      7123\n",
       "Spain                     2419\n",
       "Netherlands               2357\n",
       "Belgium                   2027\n",
       "Switzerland               1811\n",
       "Portugal                  1425\n",
       "Australia                 1184\n",
       "Norway                    1046\n",
       "Channel Islands            743\n",
       "Italy                      741\n",
       "Finland                    648\n",
       "Cyprus                     604\n",
       "Sweden                     431\n",
       "Austria                    384\n",
       "Denmark                    380\n",
       "Poland                     322\n",
       "Japan                      321\n",
       "Israel                     245\n",
       "Unspecified                244\n",
       "Singapore                  213\n",
       "Iceland                    182\n",
       "USA                        179\n",
       "Canada                     150\n",
       "Greece                     141\n",
       "Malta                      109\n",
       "United Arab Emirates        67\n",
       "European Community          60\n",
       "RSA                         58\n",
       "Lebanon                     45\n",
       "Lithuania                   35\n",
       "Brazil                      32\n",
       "Czech Republic              24\n",
       "Bahrain                     17\n",
       "Saudi Arabia                 9\n",
       "Name: count, dtype: int64"
      ]
     },
     "execution_count": 27,
     "metadata": {},
     "output_type": "execute_result"
    }
   ],
   "source": [
    "# the frequency of countries\n",
    "\n",
    "online_retail_history.Country.value_counts()"
   ]
  },
  {
   "cell_type": "code",
   "execution_count": 28,
   "id": "6fd42644",
   "metadata": {},
   "outputs": [
    {
     "data": {
      "text/plain": [
       "37"
      ]
     },
     "execution_count": 28,
     "metadata": {},
     "output_type": "execute_result"
    }
   ],
   "source": [
    "# the number of countries\n",
    "\n",
    "len(online_retail_history.Country.unique())"
   ]
  },
  {
   "cell_type": "code",
   "execution_count": 29,
   "id": "24cfe418",
   "metadata": {},
   "outputs": [
    {
     "data": {
      "image/png": "[encoded data removed]",
      "text/plain": [
       "<Figure size 640x480 with 1 Axes>"
      ]
     },
     "metadata": {},
     "output_type": "display_data"
    }
   ],
   "source": [
    "online_retail_history.Country.value_counts().nlargest(10).plot(kind='bar')\n",
    "plt.title(\"The top 10 Countries\");\n",
    "\n",
    "# to identify top 10 countries, we should look at this data by number of customers or sales - just for demo"
   ]
  },
  {
   "cell_type": "code",
   "execution_count": 30,
   "id": "b799e37f",
   "metadata": {},
   "outputs": [
    {
     "data": {
      "image/png": "[encoded data removed]",
      "text/plain": [
       "<Figure size 640x480 with 1 Axes>"
      ]
     },
     "metadata": {},
     "output_type": "display_data"
    }
   ],
   "source": [
    "online_retail_history.Country.value_counts().nlargest(20).plot(kind='barh')\n",
    "plt.title(\"The top 20 Countries\");"
   ]
  },
  {
   "cell_type": "code",
   "execution_count": 31,
   "id": "7c4d31b0",
   "metadata": {},
   "outputs": [
    {
     "data": {
      "image/png": "[encoded data removed]",
      "text/plain": [
       "<Figure size 640x480 with 1 Axes>"
      ]
     },
     "metadata": {},
     "output_type": "display_data"
    }
   ],
   "source": [
    "online_retail_history.Country.value_counts().nlargest(5).plot(kind='barh')\n",
    "plt.title(\"The top 5 Countries\");"
   ]
  },
  {
   "cell_type": "markdown",
   "id": "16379c5c",
   "metadata": {},
   "source": [
    "## Scaling a variable into a fix range"
   ]
  },
  {
   "cell_type": "code",
   "execution_count": 33,
   "id": "dd239992",
   "metadata": {},
   "outputs": [
    {
     "data": {
      "text/html": [
       "<div>\n",
       "<style scoped>\n",
       "    .dataframe tbody tr th:only-of-type {\n",
       "        vertical-align: middle;\n",
       "    }\n",
       "\n",
       "    .dataframe tbody tr th {\n",
       "        vertical-align: top;\n",
       "    }\n",
       "\n",
       "    .dataframe thead th {\n",
       "        text-align: right;\n",
       "    }\n",
       "</style>\n",
       "<table border=\"1\" class=\"dataframe\">\n",
       "  <thead>\n",
       "    <tr style=\"text-align: right;\">\n",
       "      <th></th>\n",
       "      <th>Quantity</th>\n",
       "      <th>Price</th>\n",
       "    </tr>\n",
       "  </thead>\n",
       "  <tbody>\n",
       "    <tr>\n",
       "      <th>count</th>\n",
       "      <td>396802.000000</td>\n",
       "      <td>396802.000000</td>\n",
       "    </tr>\n",
       "    <tr>\n",
       "      <th>mean</th>\n",
       "      <td>13.052550</td>\n",
       "      <td>2.807251</td>\n",
       "    </tr>\n",
       "    <tr>\n",
       "      <th>std</th>\n",
       "      <td>180.673988</td>\n",
       "      <td>2.783196</td>\n",
       "    </tr>\n",
       "    <tr>\n",
       "      <th>min</th>\n",
       "      <td>1.000000</td>\n",
       "      <td>0.000000</td>\n",
       "    </tr>\n",
       "    <tr>\n",
       "      <th>25%</th>\n",
       "      <td>2.000000</td>\n",
       "      <td>1.250000</td>\n",
       "    </tr>\n",
       "    <tr>\n",
       "      <th>50%</th>\n",
       "      <td>6.000000</td>\n",
       "      <td>1.950000</td>\n",
       "    </tr>\n",
       "    <tr>\n",
       "      <th>75%</th>\n",
       "      <td>12.000000</td>\n",
       "      <td>3.750000</td>\n",
       "    </tr>\n",
       "    <tr>\n",
       "      <th>max</th>\n",
       "      <td>80995.000000</td>\n",
       "      <td>19.960000</td>\n",
       "    </tr>\n",
       "  </tbody>\n",
       "</table>\n",
       "</div>"
      ],
      "text/plain": [
       "            Quantity          Price\n",
       "count  396802.000000  396802.000000\n",
       "mean       13.052550       2.807251\n",
       "std       180.673988       2.783196\n",
       "min         1.000000       0.000000\n",
       "25%         2.000000       1.250000\n",
       "50%         6.000000       1.950000\n",
       "75%        12.000000       3.750000\n",
       "max     80995.000000      19.960000"
      ]
     },
     "execution_count": 33,
     "metadata": {},
     "output_type": "execute_result"
    }
   ],
   "source": [
    "online_retail_history.describe()"
   ]
  },
  {
   "cell_type": "code",
   "execution_count": 34,
   "id": "a918fc92",
   "metadata": {},
   "outputs": [
    {
     "data": {
      "text/html": [
       "<div>\n",
       "<style scoped>\n",
       "    .dataframe tbody tr th:only-of-type {\n",
       "        vertical-align: middle;\n",
       "    }\n",
       "\n",
       "    .dataframe tbody tr th {\n",
       "        vertical-align: top;\n",
       "    }\n",
       "\n",
       "    .dataframe thead th {\n",
       "        text-align: right;\n",
       "    }\n",
       "</style>\n",
       "<table border=\"1\" class=\"dataframe\">\n",
       "  <thead>\n",
       "    <tr style=\"text-align: right;\">\n",
       "      <th></th>\n",
       "      <th>Invoice</th>\n",
       "      <th>StockCode</th>\n",
       "      <th>Quantity</th>\n",
       "      <th>InvoiceDate</th>\n",
       "      <th>Price</th>\n",
       "      <th>CustomerID</th>\n",
       "      <th>Country</th>\n",
       "    </tr>\n",
       "  </thead>\n",
       "  <tbody>\n",
       "    <tr>\n",
       "      <th>0</th>\n",
       "      <td>536365</td>\n",
       "      <td>85123A</td>\n",
       "      <td>6</td>\n",
       "      <td>2010-12-01 08:26:00</td>\n",
       "      <td>2.55</td>\n",
       "      <td>u1785</td>\n",
       "      <td>United Kingdom</td>\n",
       "    </tr>\n",
       "    <tr>\n",
       "      <th>1</th>\n",
       "      <td>536365</td>\n",
       "      <td>71053</td>\n",
       "      <td>6</td>\n",
       "      <td>2010-12-01 08:26:00</td>\n",
       "      <td>3.39</td>\n",
       "      <td>u1785</td>\n",
       "      <td>United Kingdom</td>\n",
       "    </tr>\n",
       "    <tr>\n",
       "      <th>2</th>\n",
       "      <td>536365</td>\n",
       "      <td>84406B</td>\n",
       "      <td>8</td>\n",
       "      <td>2010-12-01 08:26:00</td>\n",
       "      <td>2.75</td>\n",
       "      <td>u1785</td>\n",
       "      <td>United Kingdom</td>\n",
       "    </tr>\n",
       "    <tr>\n",
       "      <th>3</th>\n",
       "      <td>536365</td>\n",
       "      <td>84029G</td>\n",
       "      <td>6</td>\n",
       "      <td>2010-12-01 08:26:00</td>\n",
       "      <td>3.39</td>\n",
       "      <td>u1785</td>\n",
       "      <td>United Kingdom</td>\n",
       "    </tr>\n",
       "    <tr>\n",
       "      <th>4</th>\n",
       "      <td>536365</td>\n",
       "      <td>84029E</td>\n",
       "      <td>6</td>\n",
       "      <td>2010-12-01 08:26:00</td>\n",
       "      <td>3.39</td>\n",
       "      <td>u1785</td>\n",
       "      <td>United Kingdom</td>\n",
       "    </tr>\n",
       "  </tbody>\n",
       "</table>\n",
       "</div>"
      ],
      "text/plain": [
       "  Invoice StockCode  Quantity          InvoiceDate  Price CustomerID   \n",
       "0  536365    85123A         6  2010-12-01 08:26:00   2.55      u1785  \\\n",
       "1  536365     71053         6  2010-12-01 08:26:00   3.39      u1785   \n",
       "2  536365    84406B         8  2010-12-01 08:26:00   2.75      u1785   \n",
       "3  536365    84029G         6  2010-12-01 08:26:00   3.39      u1785   \n",
       "4  536365    84029E         6  2010-12-01 08:26:00   3.39      u1785   \n",
       "\n",
       "          Country  \n",
       "0  United Kingdom  \n",
       "1  United Kingdom  \n",
       "2  United Kingdom  \n",
       "3  United Kingdom  \n",
       "4  United Kingdom  "
      ]
     },
     "execution_count": 34,
     "metadata": {},
     "output_type": "execute_result"
    }
   ],
   "source": [
    "online_retail_history.head()"
   ]
  },
  {
   "cell_type": "code",
   "execution_count": 39,
   "id": "923a52a0",
   "metadata": {},
   "outputs": [
    {
     "data": {
      "text/plain": [
       "999.9999999999999"
      ]
     },
     "execution_count": 39,
     "metadata": {},
     "output_type": "execute_result"
    }
   ],
   "source": [
    "# check\n",
    "\n",
    "val = 80995\n",
    "new_max = 1000\n",
    "new_min = 10\n",
    "old_max = 80995\n",
    "old_min = 1\n",
    "\n",
    "\n",
    "new_min + (val - old_min) * ((new_max - new_min) / (old_max - new_min))"
   ]
  },
  {
   "cell_type": "code",
   "execution_count": 49,
   "id": "0f84fb2b",
   "metadata": {},
   "outputs": [],
   "source": [
    "new_max = 10000\n",
    "new_min = 1\n",
    "old_max = online_retail_history.Quantity.max()\n",
    "old_min = online_retail_history.Quantity.min()\n",
    "\n",
    "online_retail_history[\"Quantity_scaled\"] = online_retail_history.Quantity.apply(lambda x: new_min + (x - old_min) * ((new_max - new_min) / (old_max - new_min)))"
   ]
  },
  {
   "cell_type": "code",
   "execution_count": 50,
   "id": "f01bf6b5",
   "metadata": {},
   "outputs": [
    {
     "data": {
      "text/html": [
       "<div>\n",
       "<style scoped>\n",
       "    .dataframe tbody tr th:only-of-type {\n",
       "        vertical-align: middle;\n",
       "    }\n",
       "\n",
       "    .dataframe tbody tr th {\n",
       "        vertical-align: top;\n",
       "    }\n",
       "\n",
       "    .dataframe thead th {\n",
       "        text-align: right;\n",
       "    }\n",
       "</style>\n",
       "<table border=\"1\" class=\"dataframe\">\n",
       "  <thead>\n",
       "    <tr style=\"text-align: right;\">\n",
       "      <th></th>\n",
       "      <th>Quantity</th>\n",
       "      <th>Quantity_scaled</th>\n",
       "    </tr>\n",
       "  </thead>\n",
       "  <tbody>\n",
       "    <tr>\n",
       "      <th>count</th>\n",
       "      <td>396802.000000</td>\n",
       "      <td>396802.000000</td>\n",
       "    </tr>\n",
       "    <tr>\n",
       "      <th>mean</th>\n",
       "      <td>13.052550</td>\n",
       "      <td>2.487931</td>\n",
       "    </tr>\n",
       "    <tr>\n",
       "      <th>std</th>\n",
       "      <td>180.673988</td>\n",
       "      <td>22.304852</td>\n",
       "    </tr>\n",
       "    <tr>\n",
       "      <th>min</th>\n",
       "      <td>1.000000</td>\n",
       "      <td>1.000000</td>\n",
       "    </tr>\n",
       "    <tr>\n",
       "      <th>25%</th>\n",
       "      <td>2.000000</td>\n",
       "      <td>1.123454</td>\n",
       "    </tr>\n",
       "    <tr>\n",
       "      <th>50%</th>\n",
       "      <td>6.000000</td>\n",
       "      <td>1.617268</td>\n",
       "    </tr>\n",
       "    <tr>\n",
       "      <th>75%</th>\n",
       "      <td>12.000000</td>\n",
       "      <td>2.357989</td>\n",
       "    </tr>\n",
       "    <tr>\n",
       "      <th>max</th>\n",
       "      <td>80995.000000</td>\n",
       "      <td>10000.000000</td>\n",
       "    </tr>\n",
       "  </tbody>\n",
       "</table>\n",
       "</div>"
      ],
      "text/plain": [
       "            Quantity  Quantity_scaled\n",
       "count  396802.000000    396802.000000\n",
       "mean       13.052550         2.487931\n",
       "std       180.673988        22.304852\n",
       "min         1.000000         1.000000\n",
       "25%         2.000000         1.123454\n",
       "50%         6.000000         1.617268\n",
       "75%        12.000000         2.357989\n",
       "max     80995.000000     10000.000000"
      ]
     },
     "execution_count": 50,
     "metadata": {},
     "output_type": "execute_result"
    }
   ],
   "source": [
    "online_retail_history[[\"Invoice\", \"Quantity\", \"Quantity_scaled\"]].describe()"
   ]
  },
  {
   "cell_type": "code",
   "execution_count": null,
   "id": "0de0c46e",
   "metadata": {},
   "outputs": [],
   "source": []
  }
 ],
 "metadata": {
  "kernelspec": {
   "display_name": "Python 3 (ipykernel)",
   "language": "python",
   "name": "python3"
  },
  "language_info": {
   "codemirror_mode": {
    "name": "ipython",
    "version": 3
   },
   "file_extension": ".py",
   "mimetype": "text/x-python",
   "name": "python",
   "nbconvert_exporter": "python",
   "pygments_lexer": "ipython3",
   "version": "3.11.3"
  }
 },
 "nbformat": 4,
 "nbformat_minor": 5
}
