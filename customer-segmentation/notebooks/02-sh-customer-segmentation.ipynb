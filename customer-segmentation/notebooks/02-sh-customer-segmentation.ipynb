{
 "cells": [
  {
   "cell_type": "code",
   "execution_count": 1,
   "id": "b788609d-c59b-4a29-8b7e-478ad2f9a3ab",
   "metadata": {},
   "outputs": [],
   "source": [
    "import pandas as pd\n",
    "import sqlite3\n",
    "import seaborn as sns"
   ]
  },
  {
   "cell_type": "code",
   "execution_count": 2,
   "id": "fa241310-a6e9-4690-bc3c-552c1feba67a",
   "metadata": {},
   "outputs": [],
   "source": [
    "# connect to sqlite\n",
    "\n",
    "conn = sqlite3.connect(\"../data/bootcamp_db\")"
   ]
  },
  {
   "cell_type": "code",
   "execution_count": 3,
   "id": "2312bf0e-a7cc-498b-9b93-a616a5191b71",
   "metadata": {},
   "outputs": [],
   "source": [
    "query = \"\"\"\n",
    "select customer_id,\n",
    "       country,\n",
    "       count(distinct invoice) as number_orders,\n",
    "       max(invoice_date) as last_invoice_date,\n",
    "       sum(total_order_value) as total_spent,\n",
    "       count(distinct stock_code) as number_distinct_items\n",
    "from online_transactions_fixed\n",
    "group by customer_id, country\n",
    "\"\"\"\n",
    "\n",
    "customer_data = pd.read_sql(query, conn)"
   ]
  },
  {
   "cell_type": "code",
   "execution_count": 4,
   "id": "95f19ae0-d4aa-431c-b283-a9f3dde242a2",
   "metadata": {},
   "outputs": [
    {
     "data": {
      "text/plain": [
       "(4371, 6)"
      ]
     },
     "execution_count": 4,
     "metadata": {},
     "output_type": "execute_result"
    }
   ],
   "source": [
    "customer_data.shape"
   ]
  },
  {
   "cell_type": "code",
   "execution_count": 5,
   "id": "9ca2409f-48af-4b5d-bb0b-dfd94ccc7fef",
   "metadata": {},
   "outputs": [
    {
     "data": {
      "text/html": [
       "<div>\n",
       "<style scoped>\n",
       "    .dataframe tbody tr th:only-of-type {\n",
       "        vertical-align: middle;\n",
       "    }\n",
       "\n",
       "    .dataframe tbody tr th {\n",
       "        vertical-align: top;\n",
       "    }\n",
       "\n",
       "    .dataframe thead th {\n",
       "        text-align: right;\n",
       "    }\n",
       "</style>\n",
       "<table border=\"1\" class=\"dataframe\">\n",
       "  <thead>\n",
       "    <tr style=\"text-align: right;\">\n",
       "      <th></th>\n",
       "      <th>customer_id</th>\n",
       "      <th>country</th>\n",
       "      <th>number_orders</th>\n",
       "      <th>last_invoice_date</th>\n",
       "      <th>total_spent</th>\n",
       "      <th>number_distinct_items</th>\n",
       "    </tr>\n",
       "  </thead>\n",
       "  <tbody>\n",
       "    <tr>\n",
       "      <th>0</th>\n",
       "      <td>u12346</td>\n",
       "      <td>United Kingdom</td>\n",
       "      <td>2</td>\n",
       "      <td>2011-01-18T10:17:00</td>\n",
       "      <td>0.00</td>\n",
       "      <td>1</td>\n",
       "    </tr>\n",
       "    <tr>\n",
       "      <th>1</th>\n",
       "      <td>u12347</td>\n",
       "      <td>Iceland</td>\n",
       "      <td>7</td>\n",
       "      <td>2011-12-07T15:52:00</td>\n",
       "      <td>4310.00</td>\n",
       "      <td>103</td>\n",
       "    </tr>\n",
       "    <tr>\n",
       "      <th>2</th>\n",
       "      <td>u12348</td>\n",
       "      <td>Finland</td>\n",
       "      <td>4</td>\n",
       "      <td>2011-09-25T13:13:00</td>\n",
       "      <td>1437.24</td>\n",
       "      <td>21</td>\n",
       "    </tr>\n",
       "    <tr>\n",
       "      <th>3</th>\n",
       "      <td>u12349</td>\n",
       "      <td>Italy</td>\n",
       "      <td>1</td>\n",
       "      <td>2011-11-21T09:51:00</td>\n",
       "      <td>1457.55</td>\n",
       "      <td>72</td>\n",
       "    </tr>\n",
       "    <tr>\n",
       "      <th>4</th>\n",
       "      <td>u1235</td>\n",
       "      <td>Norway</td>\n",
       "      <td>1</td>\n",
       "      <td>2011-02-02T16:01:00</td>\n",
       "      <td>294.40</td>\n",
       "      <td>16</td>\n",
       "    </tr>\n",
       "  </tbody>\n",
       "</table>\n",
       "</div>"
      ],
      "text/plain": [
       "  customer_id         country  number_orders    last_invoice_date  \\\n",
       "0      u12346  United Kingdom              2  2011-01-18T10:17:00   \n",
       "1      u12347         Iceland              7  2011-12-07T15:52:00   \n",
       "2      u12348         Finland              4  2011-09-25T13:13:00   \n",
       "3      u12349           Italy              1  2011-11-21T09:51:00   \n",
       "4       u1235          Norway              1  2011-02-02T16:01:00   \n",
       "\n",
       "   total_spent  number_distinct_items  \n",
       "0         0.00                      1  \n",
       "1      4310.00                    103  \n",
       "2      1437.24                     21  \n",
       "3      1457.55                     72  \n",
       "4       294.40                     16  "
      ]
     },
     "execution_count": 5,
     "metadata": {},
     "output_type": "execute_result"
    }
   ],
   "source": [
    "customer_data.head()"
   ]
  },
  {
   "cell_type": "code",
   "execution_count": 6,
   "id": "1f37128d-b35e-43bd-9015-ce3a7db30f9b",
   "metadata": {},
   "outputs": [],
   "source": [
    "# creating segments based on the country\n",
    "\n",
    "def create_customer_segments(i):\n",
    "    if i == \"United Kingdom\":\n",
    "        return \"UK customer\"\n",
    "    else:\n",
    "        return \"Non-UK customer\""
   ]
  },
  {
   "cell_type": "code",
   "execution_count": 7,
   "id": "7828706d-2316-49c8-8123-50975fa17a0a",
   "metadata": {},
   "outputs": [],
   "source": [
    "customer_data['customer_segment']  = customer_data.country.apply(create_customer_segments)"
   ]
  },
  {
   "cell_type": "code",
   "execution_count": 8,
   "id": "f33fd594-d839-449e-9917-4dfdec7a7d78",
   "metadata": {},
   "outputs": [
    {
     "data": {
      "text/html": [
       "<div>\n",
       "<style scoped>\n",
       "    .dataframe tbody tr th:only-of-type {\n",
       "        vertical-align: middle;\n",
       "    }\n",
       "\n",
       "    .dataframe tbody tr th {\n",
       "        vertical-align: top;\n",
       "    }\n",
       "\n",
       "    .dataframe thead th {\n",
       "        text-align: right;\n",
       "    }\n",
       "</style>\n",
       "<table border=\"1\" class=\"dataframe\">\n",
       "  <thead>\n",
       "    <tr style=\"text-align: right;\">\n",
       "      <th></th>\n",
       "      <th>customer_id</th>\n",
       "      <th>country</th>\n",
       "      <th>number_orders</th>\n",
       "      <th>last_invoice_date</th>\n",
       "      <th>total_spent</th>\n",
       "      <th>number_distinct_items</th>\n",
       "      <th>customer_segment</th>\n",
       "    </tr>\n",
       "  </thead>\n",
       "  <tbody>\n",
       "    <tr>\n",
       "      <th>0</th>\n",
       "      <td>u12346</td>\n",
       "      <td>United Kingdom</td>\n",
       "      <td>2</td>\n",
       "      <td>2011-01-18T10:17:00</td>\n",
       "      <td>0.00</td>\n",
       "      <td>1</td>\n",
       "      <td>UK customer</td>\n",
       "    </tr>\n",
       "    <tr>\n",
       "      <th>1</th>\n",
       "      <td>u12347</td>\n",
       "      <td>Iceland</td>\n",
       "      <td>7</td>\n",
       "      <td>2011-12-07T15:52:00</td>\n",
       "      <td>4310.00</td>\n",
       "      <td>103</td>\n",
       "      <td>Non-UK customer</td>\n",
       "    </tr>\n",
       "    <tr>\n",
       "      <th>2</th>\n",
       "      <td>u12348</td>\n",
       "      <td>Finland</td>\n",
       "      <td>4</td>\n",
       "      <td>2011-09-25T13:13:00</td>\n",
       "      <td>1437.24</td>\n",
       "      <td>21</td>\n",
       "      <td>Non-UK customer</td>\n",
       "    </tr>\n",
       "    <tr>\n",
       "      <th>3</th>\n",
       "      <td>u12349</td>\n",
       "      <td>Italy</td>\n",
       "      <td>1</td>\n",
       "      <td>2011-11-21T09:51:00</td>\n",
       "      <td>1457.55</td>\n",
       "      <td>72</td>\n",
       "      <td>Non-UK customer</td>\n",
       "    </tr>\n",
       "    <tr>\n",
       "      <th>4</th>\n",
       "      <td>u1235</td>\n",
       "      <td>Norway</td>\n",
       "      <td>1</td>\n",
       "      <td>2011-02-02T16:01:00</td>\n",
       "      <td>294.40</td>\n",
       "      <td>16</td>\n",
       "      <td>Non-UK customer</td>\n",
       "    </tr>\n",
       "  </tbody>\n",
       "</table>\n",
       "</div>"
      ],
      "text/plain": [
       "  customer_id         country  number_orders    last_invoice_date  \\\n",
       "0      u12346  United Kingdom              2  2011-01-18T10:17:00   \n",
       "1      u12347         Iceland              7  2011-12-07T15:52:00   \n",
       "2      u12348         Finland              4  2011-09-25T13:13:00   \n",
       "3      u12349           Italy              1  2011-11-21T09:51:00   \n",
       "4       u1235          Norway              1  2011-02-02T16:01:00   \n",
       "\n",
       "   total_spent  number_distinct_items customer_segment  \n",
       "0         0.00                      1      UK customer  \n",
       "1      4310.00                    103  Non-UK customer  \n",
       "2      1437.24                     21  Non-UK customer  \n",
       "3      1457.55                     72  Non-UK customer  \n",
       "4       294.40                     16  Non-UK customer  "
      ]
     },
     "execution_count": 8,
     "metadata": {},
     "output_type": "execute_result"
    }
   ],
   "source": [
    "customer_data.head()"
   ]
  },
  {
   "cell_type": "code",
   "execution_count": 9,
   "id": "b140e58c-282f-43d3-9820-b72cec948e4a",
   "metadata": {},
   "outputs": [
    {
     "data": {
      "text/plain": [
       "customer_segment\n",
       "UK customer        3943\n",
       "Non-UK customer     428\n",
       "Name: count, dtype: int64"
      ]
     },
     "execution_count": 9,
     "metadata": {},
     "output_type": "execute_result"
    }
   ],
   "source": [
    "# look at distribution of customers\n",
    "\n",
    "customer_data.customer_segment.value_counts()"
   ]
  },
  {
   "cell_type": "code",
   "execution_count": 10,
   "id": "54a0cb78-1594-4609-bb3d-5feca567009c",
   "metadata": {},
   "outputs": [
    {
     "data": {
      "text/plain": [
       "customer_segment\n",
       "UK customer        0.902082\n",
       "Non-UK customer    0.097918\n",
       "Name: proportion, dtype: float64"
      ]
     },
     "execution_count": 10,
     "metadata": {},
     "output_type": "execute_result"
    }
   ],
   "source": [
    "# can view as % instead of whole numbers \n",
    "customer_data.customer_segment.value_counts(normalize=True)"
   ]
  },
  {
   "cell_type": "code",
   "execution_count": 11,
   "id": "3f6a302f-37c1-40f6-9ff3-d265bdb9eede",
   "metadata": {},
   "outputs": [
    {
     "data": {
      "text/html": [
       "<div>\n",
       "<style scoped>\n",
       "    .dataframe tbody tr th:only-of-type {\n",
       "        vertical-align: middle;\n",
       "    }\n",
       "\n",
       "    .dataframe tbody tr th {\n",
       "        vertical-align: top;\n",
       "    }\n",
       "\n",
       "    .dataframe thead th {\n",
       "        text-align: right;\n",
       "    }\n",
       "</style>\n",
       "<table border=\"1\" class=\"dataframe\">\n",
       "  <thead>\n",
       "    <tr style=\"text-align: right;\">\n",
       "      <th></th>\n",
       "      <th>customer_id</th>\n",
       "      <th>country</th>\n",
       "      <th>number_orders</th>\n",
       "      <th>last_invoice_date</th>\n",
       "      <th>total_spent</th>\n",
       "      <th>number_distinct_items</th>\n",
       "      <th>customer_segment</th>\n",
       "    </tr>\n",
       "  </thead>\n",
       "  <tbody>\n",
       "    <tr>\n",
       "      <th>0</th>\n",
       "      <td>u12346</td>\n",
       "      <td>United Kingdom</td>\n",
       "      <td>2</td>\n",
       "      <td>2011-01-18T10:17:00</td>\n",
       "      <td>0.00</td>\n",
       "      <td>1</td>\n",
       "      <td>UK customer</td>\n",
       "    </tr>\n",
       "    <tr>\n",
       "      <th>335</th>\n",
       "      <td>u12747</td>\n",
       "      <td>United Kingdom</td>\n",
       "      <td>11</td>\n",
       "      <td>2011-12-07T14:34:00</td>\n",
       "      <td>4196.01</td>\n",
       "      <td>42</td>\n",
       "      <td>UK customer</td>\n",
       "    </tr>\n",
       "    <tr>\n",
       "      <th>336</th>\n",
       "      <td>u12748</td>\n",
       "      <td>United Kingdom</td>\n",
       "      <td>217</td>\n",
       "      <td>2011-12-09T12:20:00</td>\n",
       "      <td>29819.99</td>\n",
       "      <td>1767</td>\n",
       "      <td>UK customer</td>\n",
       "    </tr>\n",
       "    <tr>\n",
       "      <th>337</th>\n",
       "      <td>u12749</td>\n",
       "      <td>United Kingdom</td>\n",
       "      <td>8</td>\n",
       "      <td>2011-12-06T09:56:00</td>\n",
       "      <td>3868.20</td>\n",
       "      <td>160</td>\n",
       "      <td>UK customer</td>\n",
       "    </tr>\n",
       "    <tr>\n",
       "      <th>382</th>\n",
       "      <td>u1282</td>\n",
       "      <td>United Kingdom</td>\n",
       "      <td>4</td>\n",
       "      <td>2011-12-06T15:12:00</td>\n",
       "      <td>942.34</td>\n",
       "      <td>55</td>\n",
       "      <td>UK customer</td>\n",
       "    </tr>\n",
       "  </tbody>\n",
       "</table>\n",
       "</div>"
      ],
      "text/plain": [
       "    customer_id         country  number_orders    last_invoice_date  \\\n",
       "0        u12346  United Kingdom              2  2011-01-18T10:17:00   \n",
       "335      u12747  United Kingdom             11  2011-12-07T14:34:00   \n",
       "336      u12748  United Kingdom            217  2011-12-09T12:20:00   \n",
       "337      u12749  United Kingdom              8  2011-12-06T09:56:00   \n",
       "382       u1282  United Kingdom              4  2011-12-06T15:12:00   \n",
       "\n",
       "     total_spent  number_distinct_items customer_segment  \n",
       "0           0.00                      1      UK customer  \n",
       "335      4196.01                     42      UK customer  \n",
       "336     29819.99                   1767      UK customer  \n",
       "337      3868.20                    160      UK customer  \n",
       "382       942.34                     55      UK customer  "
      ]
     },
     "execution_count": 11,
     "metadata": {},
     "output_type": "execute_result"
    }
   ],
   "source": [
    "# look at the UK customer segment\n",
    "\n",
    "uk_customers = customer_data[customer_data.customer_segment == \"UK customer\"]\n",
    "uk_customers.head()"
   ]
  },
  {
   "cell_type": "code",
   "execution_count": 12,
   "id": "e466f1a5-9225-46b1-8434-89bf94e78c28",
   "metadata": {},
   "outputs": [
    {
     "data": {
      "text/html": [
       "<div>\n",
       "<style scoped>\n",
       "    .dataframe tbody tr th:only-of-type {\n",
       "        vertical-align: middle;\n",
       "    }\n",
       "\n",
       "    .dataframe tbody tr th {\n",
       "        vertical-align: top;\n",
       "    }\n",
       "\n",
       "    .dataframe thead th {\n",
       "        text-align: right;\n",
       "    }\n",
       "</style>\n",
       "<table border=\"1\" class=\"dataframe\">\n",
       "  <thead>\n",
       "    <tr style=\"text-align: right;\">\n",
       "      <th></th>\n",
       "      <th>number_orders</th>\n",
       "      <th>total_spent</th>\n",
       "      <th>number_distinct_items</th>\n",
       "    </tr>\n",
       "  </thead>\n",
       "  <tbody>\n",
       "    <tr>\n",
       "      <th>count</th>\n",
       "      <td>3943.000000</td>\n",
       "      <td>3943.000000</td>\n",
       "      <td>3943.000000</td>\n",
       "    </tr>\n",
       "    <tr>\n",
       "      <th>mean</th>\n",
       "      <td>4.966523</td>\n",
       "      <td>1728.474535</td>\n",
       "      <td>60.475273</td>\n",
       "    </tr>\n",
       "    <tr>\n",
       "      <th>std</th>\n",
       "      <td>8.479952</td>\n",
       "      <td>6664.878209</td>\n",
       "      <td>81.677559</td>\n",
       "    </tr>\n",
       "    <tr>\n",
       "      <th>min</th>\n",
       "      <td>1.000000</td>\n",
       "      <td>-1192.200000</td>\n",
       "      <td>1.000000</td>\n",
       "    </tr>\n",
       "    <tr>\n",
       "      <th>25%</th>\n",
       "      <td>1.000000</td>\n",
       "      <td>283.590000</td>\n",
       "      <td>15.000000</td>\n",
       "    </tr>\n",
       "    <tr>\n",
       "      <th>50%</th>\n",
       "      <td>3.000000</td>\n",
       "      <td>626.090000</td>\n",
       "      <td>35.000000</td>\n",
       "    </tr>\n",
       "    <tr>\n",
       "      <th>75%</th>\n",
       "      <td>5.000000</td>\n",
       "      <td>1520.295000</td>\n",
       "      <td>77.000000</td>\n",
       "    </tr>\n",
       "    <tr>\n",
       "      <th>max</th>\n",
       "      <td>217.000000</td>\n",
       "      <td>259657.300000</td>\n",
       "      <td>1767.000000</td>\n",
       "    </tr>\n",
       "  </tbody>\n",
       "</table>\n",
       "</div>"
      ],
      "text/plain": [
       "       number_orders    total_spent  number_distinct_items\n",
       "count    3943.000000    3943.000000            3943.000000\n",
       "mean        4.966523    1728.474535              60.475273\n",
       "std         8.479952    6664.878209              81.677559\n",
       "min         1.000000   -1192.200000               1.000000\n",
       "25%         1.000000     283.590000              15.000000\n",
       "50%         3.000000     626.090000              35.000000\n",
       "75%         5.000000    1520.295000              77.000000\n",
       "max       217.000000  259657.300000            1767.000000"
      ]
     },
     "execution_count": 12,
     "metadata": {},
     "output_type": "execute_result"
    }
   ],
   "source": [
    "uk_customers.describe()"
   ]
  },
  {
   "cell_type": "code",
   "execution_count": 13,
   "id": "56e6de83-d332-4aa7-8137-b9f39a5326d2",
   "metadata": {},
   "outputs": [
    {
     "ename": "NameError",
     "evalue": "name 'non_uk_customers' is not defined",
     "output_type": "error",
     "traceback": [
      "\u001b[0;31m---------------------------------------------------------------------------\u001b[0m",
      "\u001b[0;31mNameError\u001b[0m                                 Traceback (most recent call last)",
      "Cell \u001b[0;32mIn[13], line 1\u001b[0m\n\u001b[0;32m----> 1\u001b[0m \u001b[43mnon_uk_customers\u001b[49m\u001b[38;5;241m.\u001b[39mdescribe()\n",
      "\u001b[0;31mNameError\u001b[0m: name 'non_uk_customers' is not defined"
     ]
    }
   ],
   "source": [
    "non_uk_customers.describe()"
   ]
  },
  {
   "cell_type": "code",
   "execution_count": null,
   "id": "70e26b2c-6fb0-4120-b73a-84bf5e6a643f",
   "metadata": {},
   "outputs": [],
   "source": [
    "non_uk_customers = customer_data[customer_data.customer_segment == \"Non-UK customer\"]\n",
    "non_uk_customers.head()"
   ]
  },
  {
   "cell_type": "markdown",
   "id": "bad31541-b640-437c-8f80-eca6900c79c8",
   "metadata": {},
   "source": [
    "Findings:\n",
    "- The Non UK customer segment makes up 10% of our customer base but.. \n",
    "- On average the non UK customser segments spends twice as much as UK customers (3.4k vs 1.7k), and 75% of non UK customers spend 2.3k vs 1.5k, even though there are no difference in average/median orders placed.\n",
    "- Next steps would be to calculate the recency and explore the outliers...\n",
    "- Suggestion to company - increase marketing spend for non UK customers"
   ]
  },
  {
   "cell_type": "code",
   "execution_count": null,
   "id": "67548fbb-ac31-42f5-8ae1-39cd39f4a4cb",
   "metadata": {},
   "outputs": [],
   "source": [
    "sns.boxplot(y=\"customer_segment\", x=\"total_spent\", data=customer_data);"
   ]
  },
  {
   "cell_type": "code",
   "execution_count": null,
   "id": "e79b271d-20d3-4c83-b81b-89f528c9fe91",
   "metadata": {},
   "outputs": [],
   "source": [
    "# for reference, code to normalize a variable\n",
    "\n",
    "\n",
    "customer_data['total_spent_normalised'] = (customer_data.total_spent - customer_data.total_spent.min())/(customer_data.total_spent.max() - customer_data.total_spent.min())\n",
    "\n"
   ]
  },
  {
   "cell_type": "code",
   "execution_count": null,
   "id": "cad9fcd0-f6b2-4ee0-a693-853fb415ee12",
   "metadata": {},
   "outputs": [],
   "source": [
    "# visualising the amount the top 20 customers spend per segment\n",
    "\n",
    "query = \"\"\"\n",
    "        with customer_spend as (select customer_id,\n",
    "                               case when Country = 'United Kingdom' then 'UK Customers' else 'Non UK Customer' end as customer_segment,\n",
    "                               sum(total_order_value) as total_spend\n",
    "                        from online_transactions_fixed\n",
    "                        group by customer_id\n",
    "                        order by total_spend desc)\n",
    "\n",
    "        select *\n",
    "        from\n",
    "            (select customer_id,\n",
    "                   customer_segment,\n",
    "                   total_spend,\n",
    "                   rank() over (partition by customer_segment order by total_spend desc) as rank\n",
    "            from customer_spend)\n",
    "        where rank < 20\n",
    "\"\"\"\n",
    "\n",
    "top_customers = pd.read_sql(query, conn)"
   ]
  },
  {
   "cell_type": "code",
   "execution_count": null,
   "id": "2c33dcbf-1dfc-4cf9-9ddc-a5950e26a707",
   "metadata": {},
   "outputs": [],
   "source": [
    "top_customers"
   ]
  },
  {
   "cell_type": "code",
   "execution_count": null,
   "id": "05ce941c-373c-45b3-91bf-8622a9ec25bc",
   "metadata": {},
   "outputs": [],
   "source": [
    "import seaborn as sns\n",
    "import matplotlib.pyplot as plt\n",
    "\n",
    "sns.lineplot(x=\"customer_id\", y=\"total_spend\", hue=\"customer_segment\", style=\"customer_segment\", data=top_customers)\n",
    "plt.title(\"Total Spend for Top 20 Customers split by Segment\")\n",
    "plt.xticks(fontsize=8, rotation=45)\n",
    "plt.yticks(fontsize=8);"
   ]
  },
  {
   "cell_type": "code",
   "execution_count": null,
   "id": "650b721e-2416-4017-9006-c6182e5a7c52",
   "metadata": {},
   "outputs": [],
   "source": [
    "from matplotlib import rcParams\n",
    "\n",
    "# figure size in inches\n",
    "rcParams['figure.figsize'] = 6, 2\n",
    "\n",
    "sns.boxplot(x=\"total_spend\", y=\"customer_segment\", data=top_customers, color=\"red\")\n",
    "plt.ylabel(\"Customer Segment\", fontsize=8)\n",
    "plt.title(\"Top 20 Customers per Segment\")\n",
    "plt.tight_layout();"
   ]
  },
  {
   "cell_type": "code",
   "execution_count": 26,
   "id": "0d185d44-4f35-4b40-8ac5-88444b4eaa4e",
   "metadata": {},
   "outputs": [
    {
     "data": {
      "text/html": [
       "<div>\n",
       "<style scoped>\n",
       "    .dataframe tbody tr th:only-of-type {\n",
       "        vertical-align: middle;\n",
       "    }\n",
       "\n",
       "    .dataframe tbody tr th {\n",
       "        vertical-align: top;\n",
       "    }\n",
       "\n",
       "    .dataframe thead th {\n",
       "        text-align: right;\n",
       "    }\n",
       "</style>\n",
       "<table border=\"1\" class=\"dataframe\">\n",
       "  <thead>\n",
       "    <tr style=\"text-align: right;\">\n",
       "      <th></th>\n",
       "      <th>invoice_month</th>\n",
       "      <th>total_spend</th>\n",
       "    </tr>\n",
       "  </thead>\n",
       "  <tbody>\n",
       "    <tr>\n",
       "      <th>0</th>\n",
       "      <td>1</td>\n",
       "      <td>471580.34</td>\n",
       "    </tr>\n",
       "    <tr>\n",
       "      <th>1</th>\n",
       "      <td>2</td>\n",
       "      <td>434218.17</td>\n",
       "    </tr>\n",
       "    <tr>\n",
       "      <th>2</th>\n",
       "      <td>3</td>\n",
       "      <td>573838.05</td>\n",
       "    </tr>\n",
       "    <tr>\n",
       "      <th>3</th>\n",
       "      <td>4</td>\n",
       "      <td>421527.77</td>\n",
       "    </tr>\n",
       "    <tr>\n",
       "      <th>4</th>\n",
       "      <td>5</td>\n",
       "      <td>650735.39</td>\n",
       "    </tr>\n",
       "    <tr>\n",
       "      <th>5</th>\n",
       "      <td>6</td>\n",
       "      <td>641129.21</td>\n",
       "    </tr>\n",
       "    <tr>\n",
       "      <th>6</th>\n",
       "      <td>7</td>\n",
       "      <td>580714.73</td>\n",
       "    </tr>\n",
       "    <tr>\n",
       "      <th>7</th>\n",
       "      <td>8</td>\n",
       "      <td>612966.30</td>\n",
       "    </tr>\n",
       "    <tr>\n",
       "      <th>8</th>\n",
       "      <td>9</td>\n",
       "      <td>924390.57</td>\n",
       "    </tr>\n",
       "    <tr>\n",
       "      <th>9</th>\n",
       "      <td>10</td>\n",
       "      <td>965151.25</td>\n",
       "    </tr>\n",
       "    <tr>\n",
       "      <th>10</th>\n",
       "      <td>11</td>\n",
       "      <td>1118870.46</td>\n",
       "    </tr>\n",
       "    <tr>\n",
       "      <th>11</th>\n",
       "      <td>12</td>\n",
       "      <td>339901.28</td>\n",
       "    </tr>\n",
       "  </tbody>\n",
       "</table>\n",
       "</div>"
      ],
      "text/plain": [
       "    invoice_month  total_spend\n",
       "0               1    471580.34\n",
       "1               2    434218.17\n",
       "2               3    573838.05\n",
       "3               4    421527.77\n",
       "4               5    650735.39\n",
       "5               6    641129.21\n",
       "6               7    580714.73\n",
       "7               8    612966.30\n",
       "8               9    924390.57\n",
       "9              10    965151.25\n",
       "10             11   1118870.46\n",
       "11             12    339901.28"
      ]
     },
     "execution_count": 26,
     "metadata": {},
     "output_type": "execute_result"
    }
   ],
   "source": [
    "query = \"\"\"\n",
    "select cast(strftime('%m', invoice_date) as int) as invoice_month,\n",
    "       case strftime('%m', invoice_date) \n",
    "           when '01' then 'Jan'\n",
    "           when '02' then 'Feb'\n",
    "           when '03' then 'Mar'\n",
    "           when '04' then 'Apr'\n",
    "           when '05' then 'May'\n",
    "           when '06' then 'Jun'\n",
    "           when '07' then 'Jul'\n",
    "           when '08' then 'Aug'\n",
    "           when '09' then 'Sep'\n",
    "           when '10' then 'Oct'\n",
    "           when '11' then 'Nov'\n",
    "           when '12' then 'Dec'\n",
    "           else 'error'\n",
    "        end as invoice_month_name,\n",
    "        sum(total_order_value) as total_spend\n",
    "from online_transactions_fixed\n",
    "where cast(strftime('%Y', invoice_date) as int) = '2011'\n",
    "group by invoice_month, invoice_month_name\n",
    "\"\"\"\n",
    "\n",
    "invoices_per_month = pd.read_sql(query, conn)\n",
    "invoices_per_month"
   ]
  },
  {
   "cell_type": "code",
   "execution_count": 24,
   "id": "c6b47678-3731-4571-9609-e2bcc7f55518",
   "metadata": {},
   "outputs": [],
   "source": [
    "invoices_per_month = invoices_per_month.sort_values(by=\"total_spend\", ascending=False)"
   ]
  },
  {
   "cell_type": "code",
   "execution_count": 25,
   "id": "4292ae17-bfcb-4a64-b58e-32eff5758112",
   "metadata": {},
   "outputs": [
    {
     "data": {
      "image/png": "[encoded data removed]",
      "text/plain": [
       "<Figure size 640x480 with 1 Axes>"
      ]
     },
     "metadata": {},
     "output_type": "display_data"
    }
   ],
   "source": [
    "sns.lineplot(x=\"invoice_month_name\", y=\"total_spend\", data=invoices_per_month);"
   ]
  },
  {
   "cell_type": "code",
   "execution_count": null,
   "id": "b83c8812-14dd-42d2-ac67-dc00116e15e7",
   "metadata": {},
   "outputs": [],
   "source": []
  }
 ],
 "metadata": {
  "kernelspec": {
   "display_name": "Python 3 (ipykernel)",
   "language": "python",
   "name": "python3"
  },
  "language_info": {
   "codemirror_mode": {
    "name": "ipython",
    "version": 3
   },
   "file_extension": ".py",
   "mimetype": "text/x-python",
   "name": "python",
   "nbconvert_exporter": "python",
   "pygments_lexer": "ipython3",
   "version": "3.11.3"
  }
 },
 "nbformat": 4,
 "nbformat_minor": 5
}
