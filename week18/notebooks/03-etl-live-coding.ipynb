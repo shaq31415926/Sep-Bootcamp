{
 "cells": [
  {
   "cell_type": "markdown",
   "id": "48bced86-345e-4a70-8967-db18b3d8cc37",
   "metadata": {},
   "source": [
    "- (Y) remove all rows where customer id is missing - **SQL** or Python\n",
    "- (Y) remove certain stock codes: bank charges, post, d, m cruk - **SQL** or Python\n",
    "- (Y) add description to the online transactions table - **SQL** or Python\n",
    "- remove all duplicate data - Python\n",
    "- (Y) replace missing stock description with Unknown - **SQL** or Python\n",
    "- (Y) fix data type for the invoice date column - Python or **SQL**"
   ]
  },
  {
   "cell_type": "code",
   "execution_count": 78,
   "id": "955920a3-dc8e-47aa-98c6-2f774a5b2902",
   "metadata": {},
   "outputs": [],
   "source": [
    "# import all the libraries we need\n",
    "\n",
    "import psycopg2\n",
    "import pandas as pd\n",
    "\n",
    "import boto3\n",
    "from io import StringIO, BytesIO\n",
    "\n",
    "# add if you want to remove warning messages\n",
    "import warnings\n",
    "warnings.filterwarnings(\"ignore\")"
   ]
  },
  {
   "cell_type": "code",
   "execution_count": 84,
   "id": "a494ec27-405c-4752-91ca-10e1d0a72f53",
   "metadata": {},
   "outputs": [],
   "source": [
    "# you do not need to import these libraries - you just hardcode the variables\n",
    "\n",
    "import os\n",
    "\n",
    "from dotenv import load_dotenv\n",
    "load_dotenv()  # only for local testing\n",
    "\n",
    "\n",
    "dbname = os.getenv(\"dbname\")\n",
    "host = os.getenv(\"host\")\n",
    "port = os.getenv(\"port\")\n",
    "user = os.getenv(\"user\")\n",
    "password = os.getenv(\"password\")"
   ]
  },
  {
   "cell_type": "code",
   "execution_count": 85,
   "id": "92f0b42d-5050-4adf-bf4c-50c874adf647",
   "metadata": {},
   "outputs": [],
   "source": [
    "# connect to redshift\n",
    "# reference for the connect function: https://www.psycopg.org/docs/module.html\n",
    "\n",
    "def connect_to_redshift(dbname, host, port, user, password):\n",
    "\n",
    "    connect = psycopg2.connect(\n",
    "                dbname=dbname, \n",
    "                host=host,\n",
    "                port=port, \n",
    "                user=user, \n",
    "                password=password\n",
    "            )\n",
    "    \n",
    "    print(\"Connection was successful\")\n",
    "\n",
    "    return connect\n",
    "    "
   ]
  },
  {
   "cell_type": "code",
   "execution_count": 86,
   "id": "33f96caf-9d97-4f0a-a8c9-e849d384afe0",
   "metadata": {},
   "outputs": [
    {
     "name": "stdout",
     "output_type": "stream",
     "text": [
      "Connection was successful\n"
     ]
    }
   ],
   "source": [
    "connect = connect_to_redshift(dbname, host, port, user, password)"
   ]
  },
  {
   "cell_type": "code",
   "execution_count": 87,
   "id": "de8dd26a-167f-43bb-b70b-e0aa602583fc",
   "metadata": {},
   "outputs": [
    {
     "data": {
      "text/html": [
       "<div>\n",
       "<style scoped>\n",
       "    .dataframe tbody tr th:only-of-type {\n",
       "        vertical-align: middle;\n",
       "    }\n",
       "\n",
       "    .dataframe tbody tr th {\n",
       "        vertical-align: top;\n",
       "    }\n",
       "\n",
       "    .dataframe thead th {\n",
       "        text-align: right;\n",
       "    }\n",
       "</style>\n",
       "<table border=\"1\" class=\"dataframe\">\n",
       "  <thead>\n",
       "    <tr style=\"text-align: right;\">\n",
       "      <th></th>\n",
       "      <th>stock_code</th>\n",
       "      <th>description</th>\n",
       "    </tr>\n",
       "  </thead>\n",
       "  <tbody>\n",
       "    <tr>\n",
       "      <th>0</th>\n",
       "      <td>10002</td>\n",
       "      <td>INFLATABLE POLITICAL GLOBE</td>\n",
       "    </tr>\n",
       "    <tr>\n",
       "      <th>1</th>\n",
       "      <td>10080</td>\n",
       "      <td>GROOVY CACTUS INFLATABLE</td>\n",
       "    </tr>\n",
       "    <tr>\n",
       "      <th>2</th>\n",
       "      <td>10120</td>\n",
       "      <td>DOGGY RUBBER</td>\n",
       "    </tr>\n",
       "    <tr>\n",
       "      <th>3</th>\n",
       "      <td>10123C</td>\n",
       "      <td>HEARTS WRAPPING TAPE</td>\n",
       "    </tr>\n",
       "    <tr>\n",
       "      <th>4</th>\n",
       "      <td>10124A</td>\n",
       "      <td>SPOTS ON RED BOOKCOVER TAPE</td>\n",
       "    </tr>\n",
       "    <tr>\n",
       "      <th>5</th>\n",
       "      <td>10124G</td>\n",
       "      <td>ARMY CAMO BOOKCOVER TAPE</td>\n",
       "    </tr>\n",
       "    <tr>\n",
       "      <th>6</th>\n",
       "      <td>10125</td>\n",
       "      <td>MINI FUNKY DESIGN TAPES</td>\n",
       "    </tr>\n",
       "    <tr>\n",
       "      <th>7</th>\n",
       "      <td>10133</td>\n",
       "      <td>COLOURING PENCILS BROWN TUBE</td>\n",
       "    </tr>\n",
       "    <tr>\n",
       "      <th>8</th>\n",
       "      <td>10135</td>\n",
       "      <td>COLOURING PENCILS BROWN TUBE</td>\n",
       "    </tr>\n",
       "    <tr>\n",
       "      <th>9</th>\n",
       "      <td>11001</td>\n",
       "      <td>ASSTD DESIGN RACING CAR PEN</td>\n",
       "    </tr>\n",
       "  </tbody>\n",
       "</table>\n",
       "</div>"
      ],
      "text/plain": [
       "  stock_code                   description\n",
       "0      10002   INFLATABLE POLITICAL GLOBE \n",
       "1      10080      GROOVY CACTUS INFLATABLE\n",
       "2      10120                  DOGGY RUBBER\n",
       "3     10123C         HEARTS WRAPPING TAPE \n",
       "4     10124A   SPOTS ON RED BOOKCOVER TAPE\n",
       "5     10124G      ARMY CAMO BOOKCOVER TAPE\n",
       "6      10125       MINI FUNKY DESIGN TAPES\n",
       "7      10133  COLOURING PENCILS BROWN TUBE\n",
       "8      10135  COLOURING PENCILS BROWN TUBE\n",
       "9      11001   ASSTD DESIGN RACING CAR PEN"
      ]
     },
     "execution_count": 87,
     "metadata": {},
     "output_type": "execute_result"
    }
   ],
   "source": [
    "# check everything is working\n",
    "\n",
    "query = \"\"\"\n",
    "select *\n",
    "from bootcamp.stock_description\n",
    "limit 10\n",
    "\"\"\"\n",
    "\n",
    "pd.read_sql(query, connect)"
   ]
  },
  {
   "cell_type": "code",
   "execution_count": 88,
   "id": "c17da3cb-5267-4630-b8fe-7b566fc1f3b4",
   "metadata": {},
   "outputs": [],
   "source": [
    "# write the sql query that carries out\n",
    "\n",
    "query = \"\"\"\n",
    "select ot.*,\n",
    "       sd.description\n",
    "from bootcamp.online_transactions ot\n",
    "left join (select *\n",
    "           from bootcamp.stock_description\n",
    "           where description <> '?') sd on ot.stock_code = sd.stock_code\n",
    "where ot.customer_id <> ''\n",
    "    and ot.stock_code not in ('D', 'M', 'CRUK', 'POST', 'BANK CHARGES')\n",
    "\"\"\"\n",
    "\n",
    "online_trans = pd.read_sql(query, connect)"
   ]
  },
  {
   "cell_type": "code",
   "execution_count": 89,
   "id": "a728a50d-34b6-4cac-9499-cdf63e80ba9d",
   "metadata": {},
   "outputs": [
    {
     "data": {
      "text/plain": [
       "(405063, 8)"
      ]
     },
     "execution_count": 89,
     "metadata": {},
     "output_type": "execute_result"
    }
   ],
   "source": [
    "online_trans.shape"
   ]
  },
  {
   "cell_type": "code",
   "execution_count": 90,
   "id": "19336cdf-785d-427d-a16f-f3f329a31f08",
   "metadata": {},
   "outputs": [
    {
     "data": {
      "text/html": [
       "<div>\n",
       "<style scoped>\n",
       "    .dataframe tbody tr th:only-of-type {\n",
       "        vertical-align: middle;\n",
       "    }\n",
       "\n",
       "    .dataframe tbody tr th {\n",
       "        vertical-align: top;\n",
       "    }\n",
       "\n",
       "    .dataframe thead th {\n",
       "        text-align: right;\n",
       "    }\n",
       "</style>\n",
       "<table border=\"1\" class=\"dataframe\">\n",
       "  <thead>\n",
       "    <tr style=\"text-align: right;\">\n",
       "      <th></th>\n",
       "      <th>invoice</th>\n",
       "      <th>stock_code</th>\n",
       "      <th>quantity</th>\n",
       "      <th>invoice_date</th>\n",
       "      <th>price</th>\n",
       "      <th>customer_id</th>\n",
       "      <th>country</th>\n",
       "      <th>description</th>\n",
       "    </tr>\n",
       "  </thead>\n",
       "  <tbody>\n",
       "    <tr>\n",
       "      <th>147</th>\n",
       "      <td>536557</td>\n",
       "      <td>22686</td>\n",
       "      <td>1</td>\n",
       "      <td>2010-12-01 14:41:00</td>\n",
       "      <td>1.25</td>\n",
       "      <td>u17841</td>\n",
       "      <td>United Kingdom</td>\n",
       "      <td>None</td>\n",
       "    </tr>\n",
       "    <tr>\n",
       "      <th>350</th>\n",
       "      <td>536597</td>\n",
       "      <td>21703</td>\n",
       "      <td>4</td>\n",
       "      <td>2010-12-01 17:35:00</td>\n",
       "      <td>0.42</td>\n",
       "      <td>u18011</td>\n",
       "      <td>United Kingdom</td>\n",
       "      <td>None</td>\n",
       "    </tr>\n",
       "    <tr>\n",
       "      <th>400</th>\n",
       "      <td>536736</td>\n",
       "      <td>21703</td>\n",
       "      <td>192</td>\n",
       "      <td>2010-12-02 12:59:00</td>\n",
       "      <td>0.42</td>\n",
       "      <td>u17381</td>\n",
       "      <td>United Kingdom</td>\n",
       "      <td>None</td>\n",
       "    </tr>\n",
       "    <tr>\n",
       "      <th>452</th>\n",
       "      <td>C536820</td>\n",
       "      <td>22878</td>\n",
       "      <td>-1</td>\n",
       "      <td>2010-12-02 17:14:00</td>\n",
       "      <td>2.10</td>\n",
       "      <td>u18168</td>\n",
       "      <td>United Kingdom</td>\n",
       "      <td>None</td>\n",
       "    </tr>\n",
       "    <tr>\n",
       "      <th>649</th>\n",
       "      <td>537023</td>\n",
       "      <td>22686</td>\n",
       "      <td>1</td>\n",
       "      <td>2010-12-03 16:02:00</td>\n",
       "      <td>1.25</td>\n",
       "      <td>u16725</td>\n",
       "      <td>United Kingdom</td>\n",
       "      <td>None</td>\n",
       "    </tr>\n",
       "    <tr>\n",
       "      <th>...</th>\n",
       "      <td>...</td>\n",
       "      <td>...</td>\n",
       "      <td>...</td>\n",
       "      <td>...</td>\n",
       "      <td>...</td>\n",
       "      <td>...</td>\n",
       "      <td>...</td>\n",
       "      <td>...</td>\n",
       "    </tr>\n",
       "    <tr>\n",
       "      <th>404663</th>\n",
       "      <td>581123</td>\n",
       "      <td>21705</td>\n",
       "      <td>24</td>\n",
       "      <td>2011-12-07 12:34:00</td>\n",
       "      <td>0.39</td>\n",
       "      <td>u1575</td>\n",
       "      <td>United Kingdom</td>\n",
       "      <td>None</td>\n",
       "    </tr>\n",
       "    <tr>\n",
       "      <th>404678</th>\n",
       "      <td>581133</td>\n",
       "      <td>21705</td>\n",
       "      <td>24</td>\n",
       "      <td>2011-12-07 12:55:00</td>\n",
       "      <td>0.39</td>\n",
       "      <td>u14904</td>\n",
       "      <td>United Kingdom</td>\n",
       "      <td>None</td>\n",
       "    </tr>\n",
       "    <tr>\n",
       "      <th>404787</th>\n",
       "      <td>581514</td>\n",
       "      <td>21705</td>\n",
       "      <td>84</td>\n",
       "      <td>2011-12-09 11:20:00</td>\n",
       "      <td>0.39</td>\n",
       "      <td>u17754</td>\n",
       "      <td>United Kingdom</td>\n",
       "      <td>None</td>\n",
       "    </tr>\n",
       "    <tr>\n",
       "      <th>405011</th>\n",
       "      <td>581469</td>\n",
       "      <td>21704</td>\n",
       "      <td>1</td>\n",
       "      <td>2011-12-08 19:28:00</td>\n",
       "      <td>0.85</td>\n",
       "      <td>u14606</td>\n",
       "      <td>United Kingdom</td>\n",
       "      <td>None</td>\n",
       "    </tr>\n",
       "    <tr>\n",
       "      <th>405040</th>\n",
       "      <td>581516</td>\n",
       "      <td>21705</td>\n",
       "      <td>24</td>\n",
       "      <td>2011-12-09 11:26:00</td>\n",
       "      <td>0.39</td>\n",
       "      <td>u14422</td>\n",
       "      <td>United Kingdom</td>\n",
       "      <td>None</td>\n",
       "    </tr>\n",
       "  </tbody>\n",
       "</table>\n",
       "<p>1175 rows × 8 columns</p>\n",
       "</div>"
      ],
      "text/plain": [
       "        invoice stock_code  quantity         invoice_date  price customer_id  \\\n",
       "147      536557      22686         1  2010-12-01 14:41:00   1.25      u17841   \n",
       "350      536597      21703         4  2010-12-01 17:35:00   0.42      u18011   \n",
       "400      536736      21703       192  2010-12-02 12:59:00   0.42      u17381   \n",
       "452     C536820      22878        -1  2010-12-02 17:14:00   2.10      u18168   \n",
       "649      537023      22686         1  2010-12-03 16:02:00   1.25      u16725   \n",
       "...         ...        ...       ...                  ...    ...         ...   \n",
       "404663   581123      21705        24  2011-12-07 12:34:00   0.39       u1575   \n",
       "404678   581133      21705        24  2011-12-07 12:55:00   0.39      u14904   \n",
       "404787   581514      21705        84  2011-12-09 11:20:00   0.39      u17754   \n",
       "405011   581469      21704         1  2011-12-08 19:28:00   0.85      u14606   \n",
       "405040   581516      21705        24  2011-12-09 11:26:00   0.39      u14422   \n",
       "\n",
       "               country description  \n",
       "147     United Kingdom        None  \n",
       "350     United Kingdom        None  \n",
       "400     United Kingdom        None  \n",
       "452     United Kingdom        None  \n",
       "649     United Kingdom        None  \n",
       "...                ...         ...  \n",
       "404663  United Kingdom        None  \n",
       "404678  United Kingdom        None  \n",
       "404787  United Kingdom        None  \n",
       "405011  United Kingdom        None  \n",
       "405040  United Kingdom        None  \n",
       "\n",
       "[1175 rows x 8 columns]"
      ]
     },
     "execution_count": 90,
     "metadata": {},
     "output_type": "execute_result"
    }
   ],
   "source": [
    "online_trans[online_trans.description.isnull()]"
   ]
  },
  {
   "cell_type": "code",
   "execution_count": 91,
   "id": "9f68af78-8f5d-43c5-8851-65df377763ec",
   "metadata": {},
   "outputs": [
    {
     "data": {
      "text/plain": [
       "description\n",
       "CREAM HANGING HEART T-LIGHT HOLDER    2077\n",
       "REGENCY CAKESTAND 3 TIER              1905\n",
       "JUMBO BAG RED RETROSPOT               1662\n",
       "ASSORTED COLOUR BIRD ORNAMENT         1418\n",
       "PARTY BUNTING                         1416\n",
       "LUNCH BAG RED RETROSPOT               1359\n",
       "SET OF 3 CAKE TINS PANTRY DESIGN      1232\n",
       "None                                  1175\n",
       "LUNCH BAG  BLACK SKULL.               1126\n",
       "POPCORN HOLDER                        1118\n",
       "JUMBO BAG VINTAGE DOILEY              1115\n",
       "LUNCH BAG SUKI DESIGN                 1103\n",
       "PACK OF 72 RETROSPOT CAKE CASES       1080\n",
       "LUNCH BAG VINTAGE DOILEY              1040\n",
       "BUNTING , SPOTTY                      1036\n",
       "PAPER CHAIN KIT 50'S CHRISTMAS        1029\n",
       "LUNCH BAG SPACEBOY DESIGN             1021\n",
       "LUNCH BAG CARS BLUE                   1012\n",
       "NATURAL SLATE HEART CHALKBOARD         997\n",
       "HEART OF WICKER SMALL                  996\n",
       "Name: count, dtype: int64"
      ]
     },
     "execution_count": 91,
     "metadata": {},
     "output_type": "execute_result"
    }
   ],
   "source": [
    "online_trans.description.value_counts(dropna=False).nlargest(20)"
   ]
  },
  {
   "cell_type": "code",
   "execution_count": 92,
   "id": "df6b9fd6-b62a-40a0-bbc9-0d34c23d9301",
   "metadata": {},
   "outputs": [
    {
     "name": "stdout",
     "output_type": "stream",
     "text": [
      "<class 'pandas.core.frame.DataFrame'>\n",
      "RangeIndex: 405063 entries, 0 to 405062\n",
      "Data columns (total 8 columns):\n",
      " #   Column        Non-Null Count   Dtype  \n",
      "---  ------        --------------   -----  \n",
      " 0   invoice       405063 non-null  object \n",
      " 1   stock_code    405063 non-null  object \n",
      " 2   quantity      405063 non-null  int64  \n",
      " 3   invoice_date  405063 non-null  object \n",
      " 4   price         405063 non-null  float64\n",
      " 5   customer_id   405063 non-null  object \n",
      " 6   country       405063 non-null  object \n",
      " 7   description   403888 non-null  object \n",
      "dtypes: float64(1), int64(1), object(6)\n",
      "memory usage: 24.7+ MB\n"
     ]
    }
   ],
   "source": [
    "online_trans.info()"
   ]
  },
  {
   "cell_type": "code",
   "execution_count": 109,
   "id": "a3ef0e7c-ad6d-49b2-abe5-179ead467ae3",
   "metadata": {},
   "outputs": [],
   "source": [
    "query = \"\"\"\n",
    "select ot.invoice,\n",
    "       ot.stock_code,\n",
    "       case when sd.description is null then 'UNKNOWN' else sd.description end as description,\n",
    "       ot.quantity,\n",
    "       cast(ot.invoice_date as datetime) as invoice_date,\n",
    "       ot.price,\n",
    "       ot.customer_id,\n",
    "       ot.country\n",
    "from bootcamp.online_transactions ot\n",
    "left join (select *\n",
    "           from bootcamp.stock_description\n",
    "           where description <> '?') sd on ot.stock_code = sd.stock_code\n",
    "where ot.customer_id <> ''\n",
    "    and ot.stock_code not in ('D', 'M', 'CRUK', 'POST', 'BANK CHARGES')\n",
    "\"\"\"\n",
    "\n",
    "online_trans = pd.read_sql(query, connect)"
   ]
  },
  {
   "cell_type": "code",
   "execution_count": 110,
   "id": "cfa9c91e-c58a-47ac-b6f4-3753d07caba4",
   "metadata": {},
   "outputs": [
    {
     "data": {
      "text/html": [
       "<div>\n",
       "<style scoped>\n",
       "    .dataframe tbody tr th:only-of-type {\n",
       "        vertical-align: middle;\n",
       "    }\n",
       "\n",
       "    .dataframe tbody tr th {\n",
       "        vertical-align: top;\n",
       "    }\n",
       "\n",
       "    .dataframe thead th {\n",
       "        text-align: right;\n",
       "    }\n",
       "</style>\n",
       "<table border=\"1\" class=\"dataframe\">\n",
       "  <thead>\n",
       "    <tr style=\"text-align: right;\">\n",
       "      <th></th>\n",
       "      <th>invoice</th>\n",
       "      <th>stock_code</th>\n",
       "      <th>description</th>\n",
       "      <th>quantity</th>\n",
       "      <th>invoice_date</th>\n",
       "      <th>price</th>\n",
       "      <th>customer_id</th>\n",
       "      <th>country</th>\n",
       "    </tr>\n",
       "  </thead>\n",
       "  <tbody>\n",
       "    <tr>\n",
       "      <th>0</th>\n",
       "      <td>536365</td>\n",
       "      <td>84029E</td>\n",
       "      <td>RED WOOLLY HOTTIE WHITE HEART.</td>\n",
       "      <td>6</td>\n",
       "      <td>2010-12-01 08:26:00</td>\n",
       "      <td>3.39</td>\n",
       "      <td>u1785</td>\n",
       "      <td>United Kingdom</td>\n",
       "    </tr>\n",
       "    <tr>\n",
       "      <th>1</th>\n",
       "      <td>536370</td>\n",
       "      <td>22900</td>\n",
       "      <td>SET 2 TEA TOWELS I LOVE LONDON</td>\n",
       "      <td>24</td>\n",
       "      <td>2010-12-01 08:45:00</td>\n",
       "      <td>2.95</td>\n",
       "      <td>u12583</td>\n",
       "      <td>France</td>\n",
       "    </tr>\n",
       "    <tr>\n",
       "      <th>2</th>\n",
       "      <td>536373</td>\n",
       "      <td>21730</td>\n",
       "      <td>GLASS STAR FROSTED T-LIGHT HOLDER</td>\n",
       "      <td>6</td>\n",
       "      <td>2010-12-01 09:02:00</td>\n",
       "      <td>4.25</td>\n",
       "      <td>u1785</td>\n",
       "      <td>United Kingdom</td>\n",
       "    </tr>\n",
       "    <tr>\n",
       "      <th>3</th>\n",
       "      <td>536375</td>\n",
       "      <td>84406B</td>\n",
       "      <td>CREAM CUPID HEARTS COAT HANGER</td>\n",
       "      <td>8</td>\n",
       "      <td>2010-12-01 09:32:00</td>\n",
       "      <td>2.75</td>\n",
       "      <td>u1785</td>\n",
       "      <td>United Kingdom</td>\n",
       "    </tr>\n",
       "    <tr>\n",
       "      <th>4</th>\n",
       "      <td>536378</td>\n",
       "      <td>21212</td>\n",
       "      <td>PACK OF 72 RETROSPOT CAKE CASES</td>\n",
       "      <td>120</td>\n",
       "      <td>2010-12-01 09:37:00</td>\n",
       "      <td>0.42</td>\n",
       "      <td>u14688</td>\n",
       "      <td>United Kingdom</td>\n",
       "    </tr>\n",
       "  </tbody>\n",
       "</table>\n",
       "</div>"
      ],
      "text/plain": [
       "  invoice stock_code                        description  quantity  \\\n",
       "0  536365     84029E     RED WOOLLY HOTTIE WHITE HEART.         6   \n",
       "1  536370      22900    SET 2 TEA TOWELS I LOVE LONDON         24   \n",
       "2  536373      21730  GLASS STAR FROSTED T-LIGHT HOLDER         6   \n",
       "3  536375     84406B     CREAM CUPID HEARTS COAT HANGER         8   \n",
       "4  536378      21212    PACK OF 72 RETROSPOT CAKE CASES       120   \n",
       "\n",
       "         invoice_date  price customer_id         country  \n",
       "0 2010-12-01 08:26:00   3.39       u1785  United Kingdom  \n",
       "1 2010-12-01 08:45:00   2.95      u12583          France  \n",
       "2 2010-12-01 09:02:00   4.25       u1785  United Kingdom  \n",
       "3 2010-12-01 09:32:00   2.75       u1785  United Kingdom  \n",
       "4 2010-12-01 09:37:00   0.42      u14688  United Kingdom  "
      ]
     },
     "execution_count": 110,
     "metadata": {},
     "output_type": "execute_result"
    }
   ],
   "source": [
    "online_trans.head()"
   ]
  },
  {
   "cell_type": "code",
   "execution_count": 111,
   "id": "514bffad-d8ee-466f-b8aa-383b7147288f",
   "metadata": {},
   "outputs": [
    {
     "data": {
      "text/plain": [
       "(405063, 8)"
      ]
     },
     "execution_count": 111,
     "metadata": {},
     "output_type": "execute_result"
    }
   ],
   "source": [
    "online_trans.shape"
   ]
  },
  {
   "cell_type": "code",
   "execution_count": 112,
   "id": "41acd096-2486-4810-bb26-4e5d9cc97e54",
   "metadata": {},
   "outputs": [
    {
     "name": "stdout",
     "output_type": "stream",
     "text": [
      "<class 'pandas.core.frame.DataFrame'>\n",
      "RangeIndex: 405063 entries, 0 to 405062\n",
      "Data columns (total 8 columns):\n",
      " #   Column        Non-Null Count   Dtype         \n",
      "---  ------        --------------   -----         \n",
      " 0   invoice       405063 non-null  object        \n",
      " 1   stock_code    405063 non-null  object        \n",
      " 2   description   405063 non-null  object        \n",
      " 3   quantity      405063 non-null  int64         \n",
      " 4   invoice_date  405063 non-null  datetime64[ns]\n",
      " 5   price         405063 non-null  float64       \n",
      " 6   customer_id   405063 non-null  object        \n",
      " 7   country       405063 non-null  object        \n",
      "dtypes: datetime64[ns](1), float64(1), int64(1), object(5)\n",
      "memory usage: 24.7+ MB\n"
     ]
    }
   ],
   "source": [
    "online_trans.info()"
   ]
  },
  {
   "cell_type": "code",
   "execution_count": 113,
   "id": "80c5463c-17c5-4362-9c08-60abd7528866",
   "metadata": {},
   "outputs": [
    {
     "data": {
      "text/html": [
       "<div>\n",
       "<style scoped>\n",
       "    .dataframe tbody tr th:only-of-type {\n",
       "        vertical-align: middle;\n",
       "    }\n",
       "\n",
       "    .dataframe tbody tr th {\n",
       "        vertical-align: top;\n",
       "    }\n",
       "\n",
       "    .dataframe thead th {\n",
       "        text-align: right;\n",
       "    }\n",
       "</style>\n",
       "<table border=\"1\" class=\"dataframe\">\n",
       "  <thead>\n",
       "    <tr style=\"text-align: right;\">\n",
       "      <th></th>\n",
       "      <th>invoice</th>\n",
       "      <th>stock_code</th>\n",
       "      <th>description</th>\n",
       "      <th>quantity</th>\n",
       "      <th>invoice_date</th>\n",
       "      <th>price</th>\n",
       "      <th>customer_id</th>\n",
       "      <th>country</th>\n",
       "    </tr>\n",
       "  </thead>\n",
       "  <tbody>\n",
       "  </tbody>\n",
       "</table>\n",
       "</div>"
      ],
      "text/plain": [
       "Empty DataFrame\n",
       "Columns: [invoice, stock_code, description, quantity, invoice_date, price, customer_id, country]\n",
       "Index: []"
      ]
     },
     "execution_count": 113,
     "metadata": {},
     "output_type": "execute_result"
    }
   ],
   "source": [
    "online_trans[online_trans.description.isnull()]"
   ]
  },
  {
   "cell_type": "code",
   "execution_count": 114,
   "id": "11e304fd-60c9-48d7-9ef8-44c0a3ac8024",
   "metadata": {},
   "outputs": [
    {
     "data": {
      "text/plain": [
       "description\n",
       "CREAM HANGING HEART T-LIGHT HOLDER    2077\n",
       "REGENCY CAKESTAND 3 TIER              1905\n",
       "JUMBO BAG RED RETROSPOT               1662\n",
       "ASSORTED COLOUR BIRD ORNAMENT         1418\n",
       "PARTY BUNTING                         1416\n",
       "LUNCH BAG RED RETROSPOT               1359\n",
       "SET OF 3 CAKE TINS PANTRY DESIGN      1232\n",
       "UNKNOWN                               1175\n",
       "LUNCH BAG  BLACK SKULL.               1126\n",
       "POPCORN HOLDER                        1118\n",
       "JUMBO BAG VINTAGE DOILEY              1115\n",
       "LUNCH BAG SUKI DESIGN                 1103\n",
       "PACK OF 72 RETROSPOT CAKE CASES       1080\n",
       "LUNCH BAG VINTAGE DOILEY              1040\n",
       "BUNTING , SPOTTY                      1036\n",
       "PAPER CHAIN KIT 50'S CHRISTMAS        1029\n",
       "LUNCH BAG SPACEBOY DESIGN             1021\n",
       "LUNCH BAG CARS BLUE                   1012\n",
       "NATURAL SLATE HEART CHALKBOARD         997\n",
       "HEART OF WICKER SMALL                  996\n",
       "Name: count, dtype: int64"
      ]
     },
     "execution_count": 114,
     "metadata": {},
     "output_type": "execute_result"
    }
   ],
   "source": [
    "online_trans.description.value_counts().nlargest(20)"
   ]
  },
  {
   "cell_type": "code",
   "execution_count": 116,
   "id": "619d8e77-a5f0-4d6f-bd2d-27f1d5cbfc4b",
   "metadata": {},
   "outputs": [],
   "source": [
    "# remove the duplicates \n",
    "\n",
    "online_trans.drop_duplicates(keep=\"first\", inplace=True)"
   ]
  },
  {
   "cell_type": "code",
   "execution_count": 117,
   "id": "6662c830-fa3b-4b17-8e0a-213119b62651",
   "metadata": {},
   "outputs": [
    {
     "data": {
      "text/plain": [
       "(399841, 8)"
      ]
     },
     "execution_count": 117,
     "metadata": {},
     "output_type": "execute_result"
    }
   ],
   "source": [
    "online_trans.shape"
   ]
  },
  {
   "cell_type": "code",
   "execution_count": 74,
   "id": "b96403fa-5211-40a9-a01f-24e852c3123f",
   "metadata": {},
   "outputs": [],
   "source": [
    "# load this data frame to s3\n",
    "\n",
    "def connect_to_s3(aws_access_key_id, aws_secret_access_key):\n",
    "    \"\"\"Methods that connects to s3\"\"\"\n",
    "\n",
    "    s3_client = boto3.client(\n",
    "        \"s3\",\n",
    "        aws_access_key_id=aws_access_key_id,\n",
    "        aws_secret_access_key=aws_secret_access_key\n",
    "    )\n",
    "\n",
    "    print(\"Connection to s3 made\")\n",
    "    \n",
    "    return s3_client"
   ]
  },
  {
   "cell_type": "code",
   "execution_count": 75,
   "id": "883d13b9-a1ce-4226-9969-2a9de7e5d555",
   "metadata": {},
   "outputs": [],
   "source": [
    "def df_to_s3(df, key, s3_bucket, aws_access_key_id, aws_secret_access_key):\n",
    "    \"\"\"Function that writes a data frame as a .csv file to a s3 bucket\"\"\"\n",
    "    \n",
    "    file_type = key[-4:]\n",
    "    \n",
    "    if file_type == '.pkl':\n",
    "        buffer = BytesIO()  # create buffer to temporarily store the Data Frame\n",
    "        df.to_pickle(buffer)  # code to write the data frame as .pkl file\n",
    "    \n",
    "    if file_type == '.csv':\n",
    "        buffer = StringIO()  # create buffer to temporarily store the Data Frame\n",
    "        df.to_csv(buffer, index=False)  # code to write the data frame as .csv file\n",
    "\n",
    "    s3_client = connect_to_s3(aws_access_key_id, aws_secret_access_key)\n",
    "\n",
    "    s3_client.put_object(\n",
    "        Bucket=s3_bucket, Key=key, Body=buffer.getvalue()\n",
    "    )  # this code writes the temp stored file and writes to s3\n",
    "\n",
    "\n",
    "    print(f\"The transformed data is saved as {file_type} in the following location s3://{s3_bucket}/{key}\")"
   ]
  },
  {
   "cell_type": "code",
   "execution_count": 79,
   "id": "0368a24f-9244-4b20-9f99-471c707dd018",
   "metadata": {},
   "outputs": [
    {
     "name": "stdout",
     "output_type": "stream",
     "text": [
      "Connection to s3 made\n",
      "The transformed data is saved as .pkl in the following location s3://sep-bootcamp/transformations_thurs/sh_online_transactions_fixed.pkl\n"
     ]
    }
   ],
   "source": [
    "key = \"transformations_thurs/sh_online_transactions_fixed.pkl\"\n",
    "s3_bucket = \"sep-bootcamp\"\n",
    "# you need to hardcode these values\n",
    "aws_access_key_id = os.getenv(\"aws_access_key_id\")\n",
    "aws_secret_access_key = os.getenv(\"aws_secret_access_key_id\")\n",
    "\n",
    "\n",
    "df_to_s3(online_trans, key, s3_bucket, aws_access_key_id, aws_secret_access_key)"
   ]
  },
  {
   "cell_type": "code",
   "execution_count": null,
   "id": "0d84de5f-7872-474f-a5e2-195d5870b61e",
   "metadata": {},
   "outputs": [],
   "source": []
  },
  {
   "cell_type": "code",
   "execution_count": null,
   "id": "b4f07015-0c6b-4ede-acfe-8bebe05edbfb",
   "metadata": {},
   "outputs": [],
   "source": []
  }
 ],
 "metadata": {
  "kernelspec": {
   "display_name": "Python 3 (ipykernel)",
   "language": "python",
   "name": "python3"
  },
  "language_info": {
   "codemirror_mode": {
    "name": "ipython",
    "version": 3
   },
   "file_extension": ".py",
   "mimetype": "text/x-python",
   "name": "python",
   "nbconvert_exporter": "python",
   "pygments_lexer": "ipython3",
   "version": "3.11.3"
  }
 },
 "nbformat": 4,
 "nbformat_minor": 5
}
