{
 "cells": [
  {
   "cell_type": "code",
   "execution_count": 16,
   "id": "9d70750b-c324-4d85-b694-a77589ec6f1c",
   "metadata": {},
   "outputs": [],
   "source": [
    "import psycopg2\n",
    "import pandas as pd\n",
    "\n",
    "import warnings\n",
    "warnings.filterwarnings('ignore')"
   ]
  },
  {
   "cell_type": "code",
   "execution_count": 3,
   "id": "7f7b3e9b-8d67-40bd-9ae6-290eb58adb11",
   "metadata": {},
   "outputs": [],
   "source": [
    "# creating variables that contain the connection information\n",
    "\n",
    "dbname = \"dev\"\n",
    "host = \"redshift-cluster-1.c9gt5btzchps.eu-central-1.redshift.amazonaws.com\"\n",
    "port= 5439\n",
    "user = \"\"\n",
    "password = \"\"\n"
   ]
  },
  {
   "cell_type": "code",
   "execution_count": 4,
   "id": "0a70a98d-047f-4927-abbd-eb949d0607bb",
   "metadata": {},
   "outputs": [
    {
     "data": {
      "text/plain": [
       "<connection object at 0x1285ae3b0; dsn: 'user=admin password=xxx dbname=dev host=redshift-cluster-1.c9gt5btzchps.eu-central-1.redshift.amazonaws.com port=5439', closed: 0>"
      ]
     },
     "execution_count": 4,
     "metadata": {},
     "output_type": "execute_result"
    }
   ],
   "source": [
    "# passing your connection info into the connect function to redshift data warehouse\n",
    "connect = psycopg2.connect(dbname=dbname,\n",
    "                         host=host,\n",
    "                         port=port,\n",
    "                         user=user,\n",
    "                         password=password)\n",
    "connect"
   ]
  },
  {
   "cell_type": "code",
   "execution_count": 17,
   "id": "bcdbface-56f7-4705-b244-8cac39b166fb",
   "metadata": {},
   "outputs": [
    {
     "data": {
      "text/html": [
       "<div>\n",
       "<style scoped>\n",
       "    .dataframe tbody tr th:only-of-type {\n",
       "        vertical-align: middle;\n",
       "    }\n",
       "\n",
       "    .dataframe tbody tr th {\n",
       "        vertical-align: top;\n",
       "    }\n",
       "\n",
       "    .dataframe thead th {\n",
       "        text-align: right;\n",
       "    }\n",
       "</style>\n",
       "<table border=\"1\" class=\"dataframe\">\n",
       "  <thead>\n",
       "    <tr style=\"text-align: right;\">\n",
       "      <th></th>\n",
       "      <th>stock_code</th>\n",
       "      <th>description</th>\n",
       "    </tr>\n",
       "  </thead>\n",
       "  <tbody>\n",
       "    <tr>\n",
       "      <th>0</th>\n",
       "      <td>10002</td>\n",
       "      <td>INFLATABLE POLITICAL GLOBE</td>\n",
       "    </tr>\n",
       "    <tr>\n",
       "      <th>1</th>\n",
       "      <td>10080</td>\n",
       "      <td>GROOVY CACTUS INFLATABLE</td>\n",
       "    </tr>\n",
       "    <tr>\n",
       "      <th>2</th>\n",
       "      <td>10120</td>\n",
       "      <td>DOGGY RUBBER</td>\n",
       "    </tr>\n",
       "    <tr>\n",
       "      <th>3</th>\n",
       "      <td>10123C</td>\n",
       "      <td>HEARTS WRAPPING TAPE</td>\n",
       "    </tr>\n",
       "    <tr>\n",
       "      <th>4</th>\n",
       "      <td>10124A</td>\n",
       "      <td>SPOTS ON RED BOOKCOVER TAPE</td>\n",
       "    </tr>\n",
       "    <tr>\n",
       "      <th>5</th>\n",
       "      <td>10124G</td>\n",
       "      <td>ARMY CAMO BOOKCOVER TAPE</td>\n",
       "    </tr>\n",
       "    <tr>\n",
       "      <th>6</th>\n",
       "      <td>10125</td>\n",
       "      <td>MINI FUNKY DESIGN TAPES</td>\n",
       "    </tr>\n",
       "    <tr>\n",
       "      <th>7</th>\n",
       "      <td>10133</td>\n",
       "      <td>COLOURING PENCILS BROWN TUBE</td>\n",
       "    </tr>\n",
       "    <tr>\n",
       "      <th>8</th>\n",
       "      <td>10135</td>\n",
       "      <td>COLOURING PENCILS BROWN TUBE</td>\n",
       "    </tr>\n",
       "    <tr>\n",
       "      <th>9</th>\n",
       "      <td>11001</td>\n",
       "      <td>ASSTD DESIGN RACING CAR PEN</td>\n",
       "    </tr>\n",
       "  </tbody>\n",
       "</table>\n",
       "</div>"
      ],
      "text/plain": [
       "  stock_code                   description\n",
       "0      10002   INFLATABLE POLITICAL GLOBE \n",
       "1      10080      GROOVY CACTUS INFLATABLE\n",
       "2      10120                  DOGGY RUBBER\n",
       "3     10123C         HEARTS WRAPPING TAPE \n",
       "4     10124A   SPOTS ON RED BOOKCOVER TAPE\n",
       "5     10124G      ARMY CAMO BOOKCOVER TAPE\n",
       "6      10125       MINI FUNKY DESIGN TAPES\n",
       "7      10133  COLOURING PENCILS BROWN TUBE\n",
       "8      10135  COLOURING PENCILS BROWN TUBE\n",
       "9      11001   ASSTD DESIGN RACING CAR PEN"
      ]
     },
     "execution_count": 17,
     "metadata": {},
     "output_type": "execute_result"
    }
   ],
   "source": [
    "# writing a sql query and storing this as a variable so that python can pick this code up\n",
    "\n",
    "query = \"\"\"select *\n",
    "            from bootcamp.stock_description \n",
    "            limit 10\"\"\"\n",
    "\n",
    "pd.read_sql(query, connect)"
   ]
  },
  {
   "cell_type": "code",
   "execution_count": 18,
   "id": "eade311e-ff70-44cc-b29b-bfd32bd502d5",
   "metadata": {},
   "outputs": [],
   "source": [
    "query = \"\"\"select *\n",
    "            from bootcamp.stock_description \n",
    "        \"\"\"\n",
    "\n",
    "stock_description = pd.read_sql(query, connect)"
   ]
  },
  {
   "cell_type": "code",
   "execution_count": 19,
   "id": "cb00d868-6900-4deb-b82e-cf89035d1281",
   "metadata": {},
   "outputs": [
    {
     "data": {
      "text/plain": [
       "(3952, 2)"
      ]
     },
     "execution_count": 19,
     "metadata": {},
     "output_type": "execute_result"
    }
   ],
   "source": [
    "stock_description.shape"
   ]
  },
  {
   "cell_type": "code",
   "execution_count": 20,
   "id": "b3bb4997-6e66-401e-a4c5-c439db7726b2",
   "metadata": {},
   "outputs": [],
   "source": [
    "query = \"\"\"select *\n",
    "            from bootcamp.online_transactions\n",
    "            \"\"\"\n",
    "\n",
    "online_transactions = pd.read_sql(query, connect)"
   ]
  },
  {
   "cell_type": "code",
   "execution_count": 21,
   "id": "d803429f-567c-4504-8453-20d2b7ad2654",
   "metadata": {},
   "outputs": [
    {
     "data": {
      "text/plain": [
       "(541910, 7)"
      ]
     },
     "execution_count": 21,
     "metadata": {},
     "output_type": "execute_result"
    }
   ],
   "source": [
    "online_transactions.shape"
   ]
  },
  {
   "cell_type": "code",
   "execution_count": null,
   "id": "762784d3-c8ba-47cd-a4fd-5d63b189e84a",
   "metadata": {},
   "outputs": [],
   "source": []
  }
 ],
 "metadata": {
  "kernelspec": {
   "display_name": "Python 3 (ipykernel)",
   "language": "python",
   "name": "python3"
  },
  "language_info": {
   "codemirror_mode": {
    "name": "ipython",
    "version": 3
   },
   "file_extension": ".py",
   "mimetype": "text/x-python",
   "name": "python",
   "nbconvert_exporter": "python",
   "pygments_lexer": "ipython3",
   "version": "3.11.3"
  }
 },
 "nbformat": 4,
 "nbformat_minor": 5
}
