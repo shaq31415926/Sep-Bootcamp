{
 "cells": [
  {
   "cell_type": "markdown",
   "id": "48bced86-345e-4a70-8967-db18b3d8cc37",
   "metadata": {},
   "source": [
    "- (Y) remove all rows where customer id is missing - **SQ**L or Python\n",
    "- (Y) remove certain stock codes: bank charges, post, d, m cruk - **SQL** or Python\n",
    "- (Y) add description to the online transactions table - **SQL** or Python\n",
    "- (Y) remove all duplicate data - Python\n",
    "- (Y) replace missing stock description with Unknown - SQL or **Python**\n",
    "- (Y) fix data type for the invoice date column - **Python** or SQL"
   ]
  },
  {
   "cell_type": "code",
   "execution_count": 99,
   "id": "955920a3-dc8e-47aa-98c6-2f774a5b2902",
   "metadata": {},
   "outputs": [],
   "source": [
    "# import all the libraries we need\n",
    "\n",
    "import psycopg2\n",
    "import pandas as pd\n",
    "\n",
    "# add if you want to remove warning messages\n",
    "import warnings\n",
    "warnings.filterwarnings(\"ignore\")"
   ]
  },
  {
   "cell_type": "code",
   "execution_count": 100,
   "id": "a494ec27-405c-4752-91ca-10e1d0a72f53",
   "metadata": {},
   "outputs": [],
   "source": [
    "# you do not need to import these libraries - you just hardcode the variables\n",
    "\n",
    "import os\n",
    "\n",
    "from dotenv import load_dotenv\n",
    "load_dotenv()  # only for local testing\n",
    "\n",
    "\n",
    "dbname = os.getenv(\"dbname\")\n",
    "host = os.getenv(\"host\")\n",
    "port = os.getenv(\"port\")\n",
    "user = os.getenv(\"user\")\n",
    "password = os.getenv(\"password\")"
   ]
  },
  {
   "cell_type": "code",
   "execution_count": 101,
   "id": "92f0b42d-5050-4adf-bf4c-50c874adf647",
   "metadata": {},
   "outputs": [],
   "source": [
    "# connect to redshift\n",
    "# reference for the connect function: https://www.psycopg.org/docs/module.html\n",
    "\n",
    "def connect_to_redshift(dbname, host, port, user, password):\n",
    "\n",
    "    connect = psycopg2.connect(\n",
    "                dbname=dbname, \n",
    "                host=host,\n",
    "                port=port, \n",
    "                user=user, \n",
    "                password=password\n",
    "            )\n",
    "    \n",
    "    print(\"Connection was successful\")\n",
    "\n",
    "    return connect\n",
    "    "
   ]
  },
  {
   "cell_type": "code",
   "execution_count": 102,
   "id": "33f96caf-9d97-4f0a-a8c9-e849d384afe0",
   "metadata": {},
   "outputs": [
    {
     "name": "stdout",
     "output_type": "stream",
     "text": [
      "Connection was successful\n"
     ]
    }
   ],
   "source": [
    "connect = connect_to_redshift(dbname, host, port, user, password)"
   ]
  },
  {
   "cell_type": "code",
   "execution_count": 103,
   "id": "de8dd26a-167f-43bb-b70b-e0aa602583fc",
   "metadata": {},
   "outputs": [
    {
     "data": {
      "text/html": [
       "<div>\n",
       "<style scoped>\n",
       "    .dataframe tbody tr th:only-of-type {\n",
       "        vertical-align: middle;\n",
       "    }\n",
       "\n",
       "    .dataframe tbody tr th {\n",
       "        vertical-align: top;\n",
       "    }\n",
       "\n",
       "    .dataframe thead th {\n",
       "        text-align: right;\n",
       "    }\n",
       "</style>\n",
       "<table border=\"1\" class=\"dataframe\">\n",
       "  <thead>\n",
       "    <tr style=\"text-align: right;\">\n",
       "      <th></th>\n",
       "      <th>stock_code</th>\n",
       "      <th>description</th>\n",
       "    </tr>\n",
       "  </thead>\n",
       "  <tbody>\n",
       "    <tr>\n",
       "      <th>0</th>\n",
       "      <td>10002</td>\n",
       "      <td>INFLATABLE POLITICAL GLOBE</td>\n",
       "    </tr>\n",
       "    <tr>\n",
       "      <th>1</th>\n",
       "      <td>10080</td>\n",
       "      <td>GROOVY CACTUS INFLATABLE</td>\n",
       "    </tr>\n",
       "    <tr>\n",
       "      <th>2</th>\n",
       "      <td>10120</td>\n",
       "      <td>DOGGY RUBBER</td>\n",
       "    </tr>\n",
       "    <tr>\n",
       "      <th>3</th>\n",
       "      <td>10123C</td>\n",
       "      <td>HEARTS WRAPPING TAPE</td>\n",
       "    </tr>\n",
       "    <tr>\n",
       "      <th>4</th>\n",
       "      <td>10124A</td>\n",
       "      <td>SPOTS ON RED BOOKCOVER TAPE</td>\n",
       "    </tr>\n",
       "    <tr>\n",
       "      <th>5</th>\n",
       "      <td>10124G</td>\n",
       "      <td>ARMY CAMO BOOKCOVER TAPE</td>\n",
       "    </tr>\n",
       "    <tr>\n",
       "      <th>6</th>\n",
       "      <td>10125</td>\n",
       "      <td>MINI FUNKY DESIGN TAPES</td>\n",
       "    </tr>\n",
       "    <tr>\n",
       "      <th>7</th>\n",
       "      <td>10133</td>\n",
       "      <td>COLOURING PENCILS BROWN TUBE</td>\n",
       "    </tr>\n",
       "    <tr>\n",
       "      <th>8</th>\n",
       "      <td>10135</td>\n",
       "      <td>COLOURING PENCILS BROWN TUBE</td>\n",
       "    </tr>\n",
       "    <tr>\n",
       "      <th>9</th>\n",
       "      <td>11001</td>\n",
       "      <td>ASSTD DESIGN RACING CAR PEN</td>\n",
       "    </tr>\n",
       "  </tbody>\n",
       "</table>\n",
       "</div>"
      ],
      "text/plain": [
       "  stock_code                   description\n",
       "0      10002   INFLATABLE POLITICAL GLOBE \n",
       "1      10080      GROOVY CACTUS INFLATABLE\n",
       "2      10120                  DOGGY RUBBER\n",
       "3     10123C         HEARTS WRAPPING TAPE \n",
       "4     10124A   SPOTS ON RED BOOKCOVER TAPE\n",
       "5     10124G      ARMY CAMO BOOKCOVER TAPE\n",
       "6      10125       MINI FUNKY DESIGN TAPES\n",
       "7      10133  COLOURING PENCILS BROWN TUBE\n",
       "8      10135  COLOURING PENCILS BROWN TUBE\n",
       "9      11001   ASSTD DESIGN RACING CAR PEN"
      ]
     },
     "execution_count": 103,
     "metadata": {},
     "output_type": "execute_result"
    }
   ],
   "source": [
    "# check everything is working\n",
    "\n",
    "query = \"\"\"\n",
    "select *\n",
    "from bootcamp.stock_description\n",
    "limit 10\n",
    "\"\"\"\n",
    "\n",
    "pd.read_sql(query, connect)"
   ]
  },
  {
   "cell_type": "code",
   "execution_count": 37,
   "id": "1a89bc5f-f966-4806-999e-523e229342c3",
   "metadata": {},
   "outputs": [
    {
     "data": {
      "text/html": [
       "<div>\n",
       "<style scoped>\n",
       "    .dataframe tbody tr th:only-of-type {\n",
       "        vertical-align: middle;\n",
       "    }\n",
       "\n",
       "    .dataframe tbody tr th {\n",
       "        vertical-align: top;\n",
       "    }\n",
       "\n",
       "    .dataframe thead th {\n",
       "        text-align: right;\n",
       "    }\n",
       "</style>\n",
       "<table border=\"1\" class=\"dataframe\">\n",
       "  <thead>\n",
       "    <tr style=\"text-align: right;\">\n",
       "      <th></th>\n",
       "      <th>count</th>\n",
       "    </tr>\n",
       "  </thead>\n",
       "  <tbody>\n",
       "    <tr>\n",
       "      <th>0</th>\n",
       "      <td>541910</td>\n",
       "    </tr>\n",
       "  </tbody>\n",
       "</table>\n",
       "</div>"
      ],
      "text/plain": [
       "    count\n",
       "0  541910"
      ]
     },
     "execution_count": 37,
     "metadata": {},
     "output_type": "execute_result"
    }
   ],
   "source": [
    "# double check how many rows we originally have\n",
    "\n",
    "query = \"\"\"\n",
    "select count(*)\n",
    "from bootcamp.online_transactions ot\n",
    "\"\"\"\n",
    "\n",
    "pd.read_sql(query, connect)"
   ]
  },
  {
   "cell_type": "code",
   "execution_count": 38,
   "id": "1367dedb-5313-4d0b-94e2-a87b321f449b",
   "metadata": {},
   "outputs": [],
   "source": [
    "# task1: remove all rows where customer is missing\n",
    "# task 2: remove all stock codes that are called bank charges, post, d, m cruk\n",
    "\n",
    "query = \"\"\"\n",
    "select ot.*\n",
    "from bootcamp.online_transactions ot\n",
    "where customer_id <> ''\n",
    " and ot.stock_code not in ('BANK CHARGES', 'POST', 'D', 'M', 'CRUK')\n",
    "\"\"\"\n",
    "\n",
    "online_trans = pd.read_sql(query, connect)"
   ]
  },
  {
   "cell_type": "code",
   "execution_count": 39,
   "id": "b571c584-161f-4199-9451-5e06aa62bf7d",
   "metadata": {},
   "outputs": [
    {
     "data": {
      "text/plain": [
       "(405063, 7)"
      ]
     },
     "execution_count": 39,
     "metadata": {},
     "output_type": "execute_result"
    }
   ],
   "source": [
    "online_trans.shape"
   ]
  },
  {
   "cell_type": "code",
   "execution_count": 53,
   "id": "432b00af-7a85-4559-bae0-0778904ced0c",
   "metadata": {},
   "outputs": [],
   "source": [
    "# task3: join description to the online transactions table\n",
    "\n",
    "query = \"\"\"\n",
    "select ot.*,\n",
    "       sd.description\n",
    "from bootcamp.online_transactions ot\n",
    "left join bootcamp.stock_description sd on ot.stock_code = sd.stock_code\n",
    "where customer_id <> ''\n",
    " and ot.stock_code not in ('BANK CHARGES', 'POST', 'D', 'M', 'CRUK')\n",
    "\"\"\"\n",
    "\n",
    "online_trans = pd.read_sql(query, connect)"
   ]
  },
  {
   "cell_type": "code",
   "execution_count": 54,
   "id": "a51c26fb-d233-4e0b-a571-2deda5c91c07",
   "metadata": {},
   "outputs": [
    {
     "data": {
      "text/plain": [
       "(412922, 8)"
      ]
     },
     "execution_count": 54,
     "metadata": {},
     "output_type": "execute_result"
    }
   ],
   "source": [
    "online_trans.shape\n",
    "\n",
    "# we have more rows now because of stock codes having multiple descriptions"
   ]
  },
  {
   "cell_type": "code",
   "execution_count": 55,
   "id": "21211f72-7673-4347-ad45-0ac5345da77c",
   "metadata": {},
   "outputs": [
    {
     "data": {
      "text/html": [
       "<div>\n",
       "<style scoped>\n",
       "    .dataframe tbody tr th:only-of-type {\n",
       "        vertical-align: middle;\n",
       "    }\n",
       "\n",
       "    .dataframe tbody tr th {\n",
       "        vertical-align: top;\n",
       "    }\n",
       "\n",
       "    .dataframe thead th {\n",
       "        text-align: right;\n",
       "    }\n",
       "</style>\n",
       "<table border=\"1\" class=\"dataframe\">\n",
       "  <thead>\n",
       "    <tr style=\"text-align: right;\">\n",
       "      <th></th>\n",
       "      <th>invoice</th>\n",
       "      <th>stock_code</th>\n",
       "      <th>quantity</th>\n",
       "      <th>invoice_date</th>\n",
       "      <th>price</th>\n",
       "      <th>customer_id</th>\n",
       "      <th>country</th>\n",
       "      <th>description</th>\n",
       "    </tr>\n",
       "  </thead>\n",
       "  <tbody>\n",
       "    <tr>\n",
       "      <th>103</th>\n",
       "      <td>536477</td>\n",
       "      <td>22423</td>\n",
       "      <td>16</td>\n",
       "      <td>2010-12-01 12:27:00</td>\n",
       "      <td>10.95</td>\n",
       "      <td>u1621</td>\n",
       "      <td>United Kingdom</td>\n",
       "      <td>REGENCY CAKESTAND 3 TIER</td>\n",
       "    </tr>\n",
       "    <tr>\n",
       "      <th>104</th>\n",
       "      <td>536477</td>\n",
       "      <td>22423</td>\n",
       "      <td>16</td>\n",
       "      <td>2010-12-01 12:27:00</td>\n",
       "      <td>10.95</td>\n",
       "      <td>u1621</td>\n",
       "      <td>United Kingdom</td>\n",
       "      <td>?</td>\n",
       "    </tr>\n",
       "  </tbody>\n",
       "</table>\n",
       "</div>"
      ],
      "text/plain": [
       "    invoice stock_code  quantity         invoice_date  price customer_id  \\\n",
       "103  536477      22423        16  2010-12-01 12:27:00  10.95       u1621   \n",
       "104  536477      22423        16  2010-12-01 12:27:00  10.95       u1621   \n",
       "\n",
       "            country               description  \n",
       "103  United Kingdom  REGENCY CAKESTAND 3 TIER  \n",
       "104  United Kingdom                         ?  "
      ]
     },
     "execution_count": 55,
     "metadata": {},
     "output_type": "execute_result"
    }
   ],
   "source": [
    "online_trans[(online_trans.invoice == \"536477\") &\n",
    "(online_trans.stock_code == \"22423\")]"
   ]
  },
  {
   "cell_type": "code",
   "execution_count": 56,
   "id": "50fc785d-7b59-4e3e-80d2-0d10d7f8c4be",
   "metadata": {},
   "outputs": [
    {
     "data": {
      "text/html": [
       "<div>\n",
       "<style scoped>\n",
       "    .dataframe tbody tr th:only-of-type {\n",
       "        vertical-align: middle;\n",
       "    }\n",
       "\n",
       "    .dataframe tbody tr th {\n",
       "        vertical-align: top;\n",
       "    }\n",
       "\n",
       "    .dataframe thead th {\n",
       "        text-align: right;\n",
       "    }\n",
       "</style>\n",
       "<table border=\"1\" class=\"dataframe\">\n",
       "  <thead>\n",
       "    <tr style=\"text-align: right;\">\n",
       "      <th></th>\n",
       "      <th>stock_code</th>\n",
       "      <th>count</th>\n",
       "    </tr>\n",
       "  </thead>\n",
       "  <tbody>\n",
       "    <tr>\n",
       "      <th>0</th>\n",
       "      <td>16020C</td>\n",
       "      <td>2</td>\n",
       "    </tr>\n",
       "    <tr>\n",
       "      <th>1</th>\n",
       "      <td>16207B</td>\n",
       "      <td>2</td>\n",
       "    </tr>\n",
       "    <tr>\n",
       "      <th>2</th>\n",
       "      <td>21145</td>\n",
       "      <td>2</td>\n",
       "    </tr>\n",
       "    <tr>\n",
       "      <th>3</th>\n",
       "      <td>21232</td>\n",
       "      <td>2</td>\n",
       "    </tr>\n",
       "    <tr>\n",
       "      <th>4</th>\n",
       "      <td>21368</td>\n",
       "      <td>2</td>\n",
       "    </tr>\n",
       "  </tbody>\n",
       "</table>\n",
       "</div>"
      ],
      "text/plain": [
       "  stock_code  count\n",
       "0     16020C      2\n",
       "1     16207B      2\n",
       "2      21145      2\n",
       "3      21232      2\n",
       "4      21368      2"
      ]
     },
     "execution_count": 56,
     "metadata": {},
     "output_type": "execute_result"
    }
   ],
   "source": [
    "# list of stock codes that have more than one description\n",
    "query = \"\"\"\n",
    "select stock_code,\n",
    "       count(*)\n",
    "from bootcamp.stock_description\n",
    "group by stock_code\n",
    "having count(*) > 1\n",
    "\"\"\"\n",
    "\n",
    "check = pd.read_sql(query, connect)\n",
    "check.head()"
   ]
  },
  {
   "cell_type": "code",
   "execution_count": 72,
   "id": "ccf6e602-bd1d-45c7-b3e0-cbd9ae96b8e7",
   "metadata": {},
   "outputs": [
    {
     "data": {
      "text/html": [
       "<div>\n",
       "<style scoped>\n",
       "    .dataframe tbody tr th:only-of-type {\n",
       "        vertical-align: middle;\n",
       "    }\n",
       "\n",
       "    .dataframe tbody tr th {\n",
       "        vertical-align: top;\n",
       "    }\n",
       "\n",
       "    .dataframe thead th {\n",
       "        text-align: right;\n",
       "    }\n",
       "</style>\n",
       "<table border=\"1\" class=\"dataframe\">\n",
       "  <thead>\n",
       "    <tr style=\"text-align: right;\">\n",
       "      <th></th>\n",
       "      <th>stock_code</th>\n",
       "      <th>description</th>\n",
       "    </tr>\n",
       "  </thead>\n",
       "  <tbody>\n",
       "    <tr>\n",
       "      <th>0</th>\n",
       "      <td>90210A</td>\n",
       "      <td>GREY ACRYLIC FACETED BANGLE</td>\n",
       "    </tr>\n",
       "    <tr>\n",
       "      <th>1</th>\n",
       "      <td>90210A</td>\n",
       "      <td>?</td>\n",
       "    </tr>\n",
       "    <tr>\n",
       "      <th>2</th>\n",
       "      <td>90175A</td>\n",
       "      <td>WHITE GLASS CHUNKY CHARM BRACELET</td>\n",
       "    </tr>\n",
       "    <tr>\n",
       "      <th>3</th>\n",
       "      <td>90175A</td>\n",
       "      <td>?</td>\n",
       "    </tr>\n",
       "    <tr>\n",
       "      <th>4</th>\n",
       "      <td>90125D</td>\n",
       "      <td>PURPLE BERTIE GLASS BEAD BAG CHARM</td>\n",
       "    </tr>\n",
       "    <tr>\n",
       "      <th>...</th>\n",
       "      <td>...</td>\n",
       "      <td>...</td>\n",
       "    </tr>\n",
       "    <tr>\n",
       "      <th>89</th>\n",
       "      <td>21145</td>\n",
       "      <td>ANTIQUE GLASS PLACE SETTING</td>\n",
       "    </tr>\n",
       "    <tr>\n",
       "      <th>90</th>\n",
       "      <td>16207B</td>\n",
       "      <td>PINK HEART RED HANDBAG</td>\n",
       "    </tr>\n",
       "    <tr>\n",
       "      <th>91</th>\n",
       "      <td>16207B</td>\n",
       "      <td>?</td>\n",
       "    </tr>\n",
       "    <tr>\n",
       "      <th>92</th>\n",
       "      <td>16020C</td>\n",
       "      <td>CLEAR STATIONERY BOX SET</td>\n",
       "    </tr>\n",
       "    <tr>\n",
       "      <th>93</th>\n",
       "      <td>16020C</td>\n",
       "      <td>?</td>\n",
       "    </tr>\n",
       "  </tbody>\n",
       "</table>\n",
       "<p>94 rows × 2 columns</p>\n",
       "</div>"
      ],
      "text/plain": [
       "   stock_code                         description\n",
       "0      90210A         GREY ACRYLIC FACETED BANGLE\n",
       "1      90210A                                   ?\n",
       "2      90175A   WHITE GLASS CHUNKY CHARM BRACELET\n",
       "3      90175A                                   ?\n",
       "4      90125D  PURPLE BERTIE GLASS BEAD BAG CHARM\n",
       "..        ...                                 ...\n",
       "89      21145         ANTIQUE GLASS PLACE SETTING\n",
       "90     16207B              PINK HEART RED HANDBAG\n",
       "91     16207B                                   ?\n",
       "92     16020C           CLEAR STATIONERY BOX SET \n",
       "93     16020C                                   ?\n",
       "\n",
       "[94 rows x 2 columns]"
      ]
     },
     "execution_count": 72,
     "metadata": {},
     "output_type": "execute_result"
    }
   ],
   "source": [
    "query = \"\"\"select *\n",
    "from bootcamp.stock_description\n",
    "where stock_code in (select stock_code\n",
    "from bootcamp.stock_description\n",
    "group by stock_code\n",
    "having count(*) > 1)\n",
    "order by stock_code desc\n",
    "\"\"\"\n",
    "\n",
    "pd.read_sql(query, connect)"
   ]
  },
  {
   "cell_type": "code",
   "execution_count": 57,
   "id": "dfa5dece-157b-48b7-9fac-e515c22dd1f0",
   "metadata": {},
   "outputs": [
    {
     "data": {
      "text/plain": [
       "47"
      ]
     },
     "execution_count": 57,
     "metadata": {},
     "output_type": "execute_result"
    }
   ],
   "source": [
    "# number of stock codes with multiple description\n",
    "# you can use python or sql to get this information\n",
    "check.shape[0]"
   ]
  },
  {
   "cell_type": "code",
   "execution_count": 76,
   "id": "d2777bce-0afe-4a78-aa16-2e06f9586153",
   "metadata": {},
   "outputs": [],
   "source": [
    "# task3: join description to the online transactions table and remove ? from the stock description table\n",
    "\n",
    "query = \"\"\"\n",
    "select ot.*,\n",
    "       sd.description\n",
    "from bootcamp.online_transactions ot\n",
    "left join (select *\n",
    "          from bootcamp.stock_description\n",
    "          where description <> '?') sd on ot.stock_code = sd.stock_code\n",
    "where ot.customer_id <> ''\n",
    " and ot.stock_code not in ('BANK CHARGES', 'POST', 'D', 'M', 'CRUK')\n",
    "\"\"\"\n",
    "\n",
    "online_trans = pd.read_sql(query, connect)"
   ]
  },
  {
   "cell_type": "code",
   "execution_count": 77,
   "id": "8e3e25a9-f26f-40a6-bf85-178ca2310882",
   "metadata": {},
   "outputs": [
    {
     "data": {
      "text/plain": [
       "(405063, 8)"
      ]
     },
     "execution_count": 77,
     "metadata": {},
     "output_type": "execute_result"
    }
   ],
   "source": [
    "# now we have the same number of expected rows\n",
    "\n",
    "online_trans.shape"
   ]
  },
  {
   "cell_type": "code",
   "execution_count": 121,
   "id": "8d8c9317-6738-45d7-ab64-84ebf3397262",
   "metadata": {},
   "outputs": [],
   "source": [
    "# you can also write this sql query by joining and then adding a where condition to remove the ?\n",
    "\n",
    "query = \"\"\"\n",
    "select ot.*,\n",
    "       sd.description\n",
    "from bootcamp.online_transactions ot\n",
    "left join bootcamp.stock_description sd on ot.stock_code = sd.stock_code\n",
    "where ot.customer_id <> ''\n",
    " and ot.stock_code not in ('BANK CHARGES', 'POST', 'D', 'M', 'CRUK')\n",
    " and (sd.description is null or sd.description <> '?')\n",
    "\"\"\"\n",
    "\n",
    "online_trans = pd.read_sql(query, connect)"
   ]
  },
  {
   "cell_type": "code",
   "execution_count": 122,
   "id": "b6804d3f-56a1-4fb2-9869-c8d2af55ddec",
   "metadata": {},
   "outputs": [
    {
     "data": {
      "text/plain": [
       "(405063, 8)"
      ]
     },
     "execution_count": 122,
     "metadata": {},
     "output_type": "execute_result"
    }
   ],
   "source": [
    "online_trans.shape"
   ]
  },
  {
   "cell_type": "code",
   "execution_count": 83,
   "id": "52787eea-f388-44e8-89dd-85a7fe9c97b4",
   "metadata": {},
   "outputs": [
    {
     "data": {
      "text/html": [
       "<div>\n",
       "<style scoped>\n",
       "    .dataframe tbody tr th:only-of-type {\n",
       "        vertical-align: middle;\n",
       "    }\n",
       "\n",
       "    .dataframe tbody tr th {\n",
       "        vertical-align: top;\n",
       "    }\n",
       "\n",
       "    .dataframe thead th {\n",
       "        text-align: right;\n",
       "    }\n",
       "</style>\n",
       "<table border=\"1\" class=\"dataframe\">\n",
       "  <thead>\n",
       "    <tr style=\"text-align: right;\">\n",
       "      <th></th>\n",
       "      <th>invoice</th>\n",
       "      <th>stock_code</th>\n",
       "      <th>quantity</th>\n",
       "      <th>invoice_date</th>\n",
       "      <th>price</th>\n",
       "      <th>customer_id</th>\n",
       "      <th>country</th>\n",
       "      <th>description</th>\n",
       "    </tr>\n",
       "  </thead>\n",
       "  <tbody>\n",
       "    <tr>\n",
       "      <th>0</th>\n",
       "      <td>536365</td>\n",
       "      <td>84029E</td>\n",
       "      <td>6</td>\n",
       "      <td>2010-12-01 08:26:00</td>\n",
       "      <td>3.39</td>\n",
       "      <td>u1785</td>\n",
       "      <td>United Kingdom</td>\n",
       "      <td>RED WOOLLY HOTTIE WHITE HEART.</td>\n",
       "    </tr>\n",
       "    <tr>\n",
       "      <th>1</th>\n",
       "      <td>536370</td>\n",
       "      <td>22900</td>\n",
       "      <td>24</td>\n",
       "      <td>2010-12-01 08:45:00</td>\n",
       "      <td>2.95</td>\n",
       "      <td>u12583</td>\n",
       "      <td>France</td>\n",
       "      <td>SET 2 TEA TOWELS I LOVE LONDON</td>\n",
       "    </tr>\n",
       "    <tr>\n",
       "      <th>2</th>\n",
       "      <td>536373</td>\n",
       "      <td>21730</td>\n",
       "      <td>6</td>\n",
       "      <td>2010-12-01 09:02:00</td>\n",
       "      <td>4.25</td>\n",
       "      <td>u1785</td>\n",
       "      <td>United Kingdom</td>\n",
       "      <td>GLASS STAR FROSTED T-LIGHT HOLDER</td>\n",
       "    </tr>\n",
       "    <tr>\n",
       "      <th>3</th>\n",
       "      <td>536375</td>\n",
       "      <td>84406B</td>\n",
       "      <td>8</td>\n",
       "      <td>2010-12-01 09:32:00</td>\n",
       "      <td>2.75</td>\n",
       "      <td>u1785</td>\n",
       "      <td>United Kingdom</td>\n",
       "      <td>CREAM CUPID HEARTS COAT HANGER</td>\n",
       "    </tr>\n",
       "    <tr>\n",
       "      <th>4</th>\n",
       "      <td>536378</td>\n",
       "      <td>21212</td>\n",
       "      <td>120</td>\n",
       "      <td>2010-12-01 09:37:00</td>\n",
       "      <td>0.42</td>\n",
       "      <td>u14688</td>\n",
       "      <td>United Kingdom</td>\n",
       "      <td>PACK OF 72 RETROSPOT CAKE CASES</td>\n",
       "    </tr>\n",
       "    <tr>\n",
       "      <th>...</th>\n",
       "      <td>...</td>\n",
       "      <td>...</td>\n",
       "      <td>...</td>\n",
       "      <td>...</td>\n",
       "      <td>...</td>\n",
       "      <td>...</td>\n",
       "      <td>...</td>\n",
       "      <td>...</td>\n",
       "    </tr>\n",
       "    <tr>\n",
       "      <th>405058</th>\n",
       "      <td>581580</td>\n",
       "      <td>22698</td>\n",
       "      <td>1</td>\n",
       "      <td>2011-12-09 12:20:00</td>\n",
       "      <td>2.95</td>\n",
       "      <td>u12748</td>\n",
       "      <td>United Kingdom</td>\n",
       "      <td>PINK REGENCY TEACUP AND SAUCER</td>\n",
       "    </tr>\n",
       "    <tr>\n",
       "      <th>405059</th>\n",
       "      <td>581584</td>\n",
       "      <td>20832</td>\n",
       "      <td>72</td>\n",
       "      <td>2011-12-09 12:25:00</td>\n",
       "      <td>0.72</td>\n",
       "      <td>u13777</td>\n",
       "      <td>United Kingdom</td>\n",
       "      <td>RED FLOCK LOVE HEART PHOTO FRAME</td>\n",
       "    </tr>\n",
       "    <tr>\n",
       "      <th>405060</th>\n",
       "      <td>581585</td>\n",
       "      <td>22178</td>\n",
       "      <td>12</td>\n",
       "      <td>2011-12-09 12:31:00</td>\n",
       "      <td>1.95</td>\n",
       "      <td>u15804</td>\n",
       "      <td>United Kingdom</td>\n",
       "      <td>VICTORIAN GLASS HANGING T-LIGHT</td>\n",
       "    </tr>\n",
       "    <tr>\n",
       "      <th>405061</th>\n",
       "      <td>581585</td>\n",
       "      <td>84692</td>\n",
       "      <td>25</td>\n",
       "      <td>2011-12-09 12:31:00</td>\n",
       "      <td>0.42</td>\n",
       "      <td>u15804</td>\n",
       "      <td>United Kingdom</td>\n",
       "      <td>BOX OF 24 COCKTAIL PARASOLS</td>\n",
       "    </tr>\n",
       "    <tr>\n",
       "      <th>405062</th>\n",
       "      <td>581586</td>\n",
       "      <td>23275</td>\n",
       "      <td>24</td>\n",
       "      <td>2011-12-09 12:49:00</td>\n",
       "      <td>1.25</td>\n",
       "      <td>u13113</td>\n",
       "      <td>United Kingdom</td>\n",
       "      <td>SET OF 3 HANGING OWLS OLLIE BEAK</td>\n",
       "    </tr>\n",
       "  </tbody>\n",
       "</table>\n",
       "<p>395003 rows × 8 columns</p>\n",
       "</div>"
      ],
      "text/plain": [
       "       invoice stock_code  quantity         invoice_date  price customer_id  \\\n",
       "0       536365     84029E         6  2010-12-01 08:26:00   3.39       u1785   \n",
       "1       536370      22900        24  2010-12-01 08:45:00   2.95      u12583   \n",
       "2       536373      21730         6  2010-12-01 09:02:00   4.25       u1785   \n",
       "3       536375     84406B         8  2010-12-01 09:32:00   2.75       u1785   \n",
       "4       536378      21212       120  2010-12-01 09:37:00   0.42      u14688   \n",
       "...        ...        ...       ...                  ...    ...         ...   \n",
       "405058  581580      22698         1  2011-12-09 12:20:00   2.95      u12748   \n",
       "405059  581584      20832        72  2011-12-09 12:25:00   0.72      u13777   \n",
       "405060  581585      22178        12  2011-12-09 12:31:00   1.95      u15804   \n",
       "405061  581585      84692        25  2011-12-09 12:31:00   0.42      u15804   \n",
       "405062  581586      23275        24  2011-12-09 12:49:00   1.25      u13113   \n",
       "\n",
       "               country                        description  \n",
       "0       United Kingdom     RED WOOLLY HOTTIE WHITE HEART.  \n",
       "1               France    SET 2 TEA TOWELS I LOVE LONDON   \n",
       "2       United Kingdom  GLASS STAR FROSTED T-LIGHT HOLDER  \n",
       "3       United Kingdom     CREAM CUPID HEARTS COAT HANGER  \n",
       "4       United Kingdom    PACK OF 72 RETROSPOT CAKE CASES  \n",
       "...                ...                                ...  \n",
       "405058  United Kingdom     PINK REGENCY TEACUP AND SAUCER  \n",
       "405059  United Kingdom   RED FLOCK LOVE HEART PHOTO FRAME  \n",
       "405060  United Kingdom    VICTORIAN GLASS HANGING T-LIGHT  \n",
       "405061  United Kingdom        BOX OF 24 COCKTAIL PARASOLS  \n",
       "405062  United Kingdom   SET OF 3 HANGING OWLS OLLIE BEAK  \n",
       "\n",
       "[395003 rows x 8 columns]"
      ]
     },
     "execution_count": 83,
     "metadata": {},
     "output_type": "execute_result"
    }
   ],
   "source": [
    "# if you want to drop all occurences of duplicated rows, use keep=False\n",
    "# this means you drop the row that has duplicated data\n",
    "\n",
    "online_trans.drop_duplicates(keep=False)"
   ]
  },
  {
   "cell_type": "code",
   "execution_count": 78,
   "id": "b834a5dc-274f-44c9-ae37-0ff66dba2a6e",
   "metadata": {},
   "outputs": [
    {
     "data": {
      "text/plain": [
       "5222"
      ]
     },
     "execution_count": 78,
     "metadata": {},
     "output_type": "execute_result"
    }
   ],
   "source": [
    "# remove the duplicated rows data\n",
    "\n",
    "# check how many duplicated rows\n",
    "online_trans.duplicated().sum()"
   ]
  },
  {
   "cell_type": "code",
   "execution_count": 81,
   "id": "006fee1b-e626-4561-967a-8a88001ed606",
   "metadata": {},
   "outputs": [],
   "source": [
    "# drop the duplicated rows - but want to keep the first appearance\n",
    "\n",
    "online_trans_cleaned = online_trans.drop_duplicates(keep='first')"
   ]
  },
  {
   "cell_type": "code",
   "execution_count": 82,
   "id": "8ab33ec5-a42b-4502-a1be-f71941bab8ee",
   "metadata": {},
   "outputs": [
    {
     "data": {
      "text/plain": [
       "(399841, 8)"
      ]
     },
     "execution_count": 82,
     "metadata": {},
     "output_type": "execute_result"
    }
   ],
   "source": [
    "online_trans_cleaned.shape"
   ]
  },
  {
   "cell_type": "code",
   "execution_count": 84,
   "id": "f4bd6d81-3cbf-45d5-a70f-1a4004cbd6c2",
   "metadata": {},
   "outputs": [
    {
     "data": {
      "text/plain": [
       "0"
      ]
     },
     "execution_count": 84,
     "metadata": {},
     "output_type": "execute_result"
    }
   ],
   "source": [
    "online_trans_cleaned.duplicated().sum()"
   ]
  },
  {
   "cell_type": "code",
   "execution_count": 85,
   "id": "a6a9bd43-d410-4b84-9bae-0140fc834493",
   "metadata": {},
   "outputs": [
    {
     "data": {
      "text/plain": [
       "invoice            0\n",
       "stock_code         0\n",
       "quantity           0\n",
       "invoice_date       0\n",
       "price              0\n",
       "customer_id        0\n",
       "country            0\n",
       "description     1172\n",
       "dtype: int64"
      ]
     },
     "execution_count": 85,
     "metadata": {},
     "output_type": "execute_result"
    }
   ],
   "source": [
    "# identify missing data\n",
    "\n",
    "online_trans_cleaned.isnull().sum()"
   ]
  },
  {
   "cell_type": "code",
   "execution_count": 86,
   "id": "9c0ee600-990c-4885-ab91-58cec58b86b1",
   "metadata": {},
   "outputs": [],
   "source": [
    "# replace the missing values with Unknown\n",
    "\n",
    "online_trans_cleaned.description.fillna(\"Unknown\", inplace=True)"
   ]
  },
  {
   "cell_type": "code",
   "execution_count": 87,
   "id": "3fe8bda4-4ef2-4cfd-bf28-1a4812a52cd1",
   "metadata": {},
   "outputs": [
    {
     "data": {
      "text/plain": [
       "invoice         0\n",
       "stock_code      0\n",
       "quantity        0\n",
       "invoice_date    0\n",
       "price           0\n",
       "customer_id     0\n",
       "country         0\n",
       "description     0\n",
       "dtype: int64"
      ]
     },
     "execution_count": 87,
     "metadata": {},
     "output_type": "execute_result"
    }
   ],
   "source": [
    "# check if you have any missing data\n",
    "\n",
    "online_trans_cleaned.isnull().sum()"
   ]
  },
  {
   "cell_type": "code",
   "execution_count": 88,
   "id": "7d347b74-917c-405a-b9b8-17b7c46e7652",
   "metadata": {},
   "outputs": [
    {
     "name": "stdout",
     "output_type": "stream",
     "text": [
      "<class 'pandas.core.frame.DataFrame'>\n",
      "Index: 399841 entries, 0 to 405062\n",
      "Data columns (total 8 columns):\n",
      " #   Column        Non-Null Count   Dtype  \n",
      "---  ------        --------------   -----  \n",
      " 0   invoice       399841 non-null  object \n",
      " 1   stock_code    399841 non-null  object \n",
      " 2   quantity      399841 non-null  int64  \n",
      " 3   invoice_date  399841 non-null  object \n",
      " 4   price         399841 non-null  float64\n",
      " 5   customer_id   399841 non-null  object \n",
      " 6   country       399841 non-null  object \n",
      " 7   description   399841 non-null  object \n",
      "dtypes: float64(1), int64(1), object(6)\n",
      "memory usage: 27.5+ MB\n"
     ]
    }
   ],
   "source": [
    "# fix the data type\n",
    "online_trans_cleaned.info()"
   ]
  },
  {
   "cell_type": "code",
   "execution_count": 91,
   "id": "99a183c0-f760-4487-bf47-d55507a68b02",
   "metadata": {},
   "outputs": [],
   "source": [
    "# use the to datetime function from pandas to fix the datetime\n",
    "\n",
    "online_trans_cleaned.invoice_date = pd.to_datetime(online_trans_cleaned.invoice_date)"
   ]
  },
  {
   "cell_type": "code",
   "execution_count": 92,
   "id": "0696637f-9c0f-4c27-b5f0-308225e43b7c",
   "metadata": {},
   "outputs": [
    {
     "name": "stdout",
     "output_type": "stream",
     "text": [
      "<class 'pandas.core.frame.DataFrame'>\n",
      "Index: 399841 entries, 0 to 405062\n",
      "Data columns (total 8 columns):\n",
      " #   Column        Non-Null Count   Dtype         \n",
      "---  ------        --------------   -----         \n",
      " 0   invoice       399841 non-null  object        \n",
      " 1   stock_code    399841 non-null  object        \n",
      " 2   quantity      399841 non-null  int64         \n",
      " 3   invoice_date  399841 non-null  datetime64[ns]\n",
      " 4   price         399841 non-null  float64       \n",
      " 5   customer_id   399841 non-null  object        \n",
      " 6   country       399841 non-null  object        \n",
      " 7   description   399841 non-null  object        \n",
      "dtypes: datetime64[ns](1), float64(1), int64(1), object(5)\n",
      "memory usage: 27.5+ MB\n"
     ]
    }
   ],
   "source": [
    "# check the info\n",
    "\n",
    "online_trans_cleaned.info()"
   ]
  },
  {
   "cell_type": "code",
   "execution_count": 94,
   "id": "e8da6d29-d68e-40d5-a5a7-736ebbd9b352",
   "metadata": {},
   "outputs": [
    {
     "data": {
      "text/plain": [
       "(399841, 8)"
      ]
     },
     "execution_count": 94,
     "metadata": {},
     "output_type": "execute_result"
    }
   ],
   "source": [
    "online_trans_cleaned.shape"
   ]
  },
  {
   "cell_type": "code",
   "execution_count": 93,
   "id": "89238d2e-4d84-47d1-93aa-fad38760eb1c",
   "metadata": {},
   "outputs": [],
   "source": [
    "# Activity: Load the transformed data frame to s3"
   ]
  }
 ],
 "metadata": {
  "kernelspec": {
   "display_name": "Python 3 (ipykernel)",
   "language": "python",
   "name": "python3"
  },
  "language_info": {
   "codemirror_mode": {
    "name": "ipython",
    "version": 3
   },
   "file_extension": ".py",
   "mimetype": "text/x-python",
   "name": "python",
   "nbconvert_exporter": "python",
   "pygments_lexer": "ipython3",
   "version": "3.11.3"
  }
 },
 "nbformat": 4,
 "nbformat_minor": 5
}
