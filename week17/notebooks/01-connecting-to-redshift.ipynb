{
 "cells": [
  {
   "cell_type": "code",
   "execution_count": 16,
   "id": "b77bf4d3-23a8-458f-a1c2-2fb182a9e7f3",
   "metadata": {},
   "outputs": [
    {
     "name": "stdout",
     "output_type": "stream",
     "text": [
      "Requirement already satisfied: psycopg2-binary in /Library/Frameworks/Python.framework/Versions/3.11/lib/python3.11/site-packages (2.9.9)\n",
      "\n",
      "\u001b[1m[\u001b[0m\u001b[34;49mnotice\u001b[0m\u001b[1;39;49m]\u001b[0m\u001b[39;49m A new release of pip is available: \u001b[0m\u001b[31;49m23.3\u001b[0m\u001b[39;49m -> \u001b[0m\u001b[32;49m23.3.2\u001b[0m\n",
      "\u001b[1m[\u001b[0m\u001b[34;49mnotice\u001b[0m\u001b[1;39;49m]\u001b[0m\u001b[39;49m To update, run: \u001b[0m\u001b[32;49mpip install --upgrade pip\u001b[0m\n"
     ]
    }
   ],
   "source": [
    "# installing a library from your notebooks - one off\n",
    "\n",
    "# ! pip3 install psycopg2-binary"
   ]
  },
  {
   "cell_type": "code",
   "execution_count": 2,
   "id": "3daba830-3e99-42ee-ad6d-5da48ce0aec8",
   "metadata": {},
   "outputs": [],
   "source": [
    "import psycopg2\n",
    "import pandas as pd"
   ]
  },
  {
   "cell_type": "code",
   "execution_count": 3,
   "id": "81d29b4f-28df-4d04-8305-029af33f610f",
   "metadata": {},
   "outputs": [],
   "source": [
    "# creating variables that contain the connection information\n",
    "\n",
    "dbname = \"dev\"\n",
    "host = \"redshift-cluster-1.c9gt5btzchps.eu-central-1.redshift.amazonaws.com\"\n",
    "port= 5439\n",
    "user = \"admin\"\n",
    "password = \"\"\n"
   ]
  },
  {
   "cell_type": "code",
   "execution_count": 4,
   "id": "d9ee8b6e-468e-4584-8ab3-38608b082272",
   "metadata": {},
   "outputs": [
    {
     "data": {
      "text/plain": [
       "<connection object at 0x127c8de70; dsn: 'user=admin password=xxx dbname=dev host=redshift-cluster-1.c9gt5btzchps.eu-central-1.redshift.amazonaws.com port=5439', closed: 0>"
      ]
     },
     "execution_count": 4,
     "metadata": {},
     "output_type": "execute_result"
    }
   ],
   "source": [
    "# passing your connection info into the connect function to redshift data warehouse\n",
    "connect = psycopg2.connect(dbname=dbname,\n",
    "                         host=host,\n",
    "                         port=port,\n",
    "                         user=user,\n",
    "                         password=password)\n",
    "connect"
   ]
  },
  {
   "cell_type": "code",
   "execution_count": 5,
   "id": "8cae8d66-186b-4d4d-a460-373657f6caf6",
   "metadata": {},
   "outputs": [],
   "source": [
    "# writing a sql query and storing this as a variable so that python can pick this code up\n",
    "\n",
    "query = \"\"\"select *\n",
    "            from bootcamp.stock_description\n",
    "            limit 10\"\"\""
   ]
  },
  {
   "cell_type": "code",
   "execution_count": 6,
   "id": "45efc3db-895c-4334-83d0-22b55301f39d",
   "metadata": {},
   "outputs": [
    {
     "name": "stderr",
     "output_type": "stream",
     "text": [
      "/var/folders/gs/c69h38_15hb4fnkpnc9gvksm0000gn/T/ipykernel_75209/998712358.py:3: UserWarning: pandas only supports SQLAlchemy connectable (engine/connection) or database string URI or sqlite3 DBAPI2 connection. Other DBAPI2 objects are not tested. Please consider using SQLAlchemy.\n",
      "  pd.read_sql(query, connect)\n"
     ]
    },
    {
     "data": {
      "text/html": [
       "<div>\n",
       "<style scoped>\n",
       "    .dataframe tbody tr th:only-of-type {\n",
       "        vertical-align: middle;\n",
       "    }\n",
       "\n",
       "    .dataframe tbody tr th {\n",
       "        vertical-align: top;\n",
       "    }\n",
       "\n",
       "    .dataframe thead th {\n",
       "        text-align: right;\n",
       "    }\n",
       "</style>\n",
       "<table border=\"1\" class=\"dataframe\">\n",
       "  <thead>\n",
       "    <tr style=\"text-align: right;\">\n",
       "      <th></th>\n",
       "      <th>stock_code</th>\n",
       "      <th>description</th>\n",
       "    </tr>\n",
       "  </thead>\n",
       "  <tbody>\n",
       "    <tr>\n",
       "      <th>0</th>\n",
       "      <td>10002</td>\n",
       "      <td>INFLATABLE POLITICAL GLOBE</td>\n",
       "    </tr>\n",
       "    <tr>\n",
       "      <th>1</th>\n",
       "      <td>10080</td>\n",
       "      <td>GROOVY CACTUS INFLATABLE</td>\n",
       "    </tr>\n",
       "    <tr>\n",
       "      <th>2</th>\n",
       "      <td>10120</td>\n",
       "      <td>DOGGY RUBBER</td>\n",
       "    </tr>\n",
       "    <tr>\n",
       "      <th>3</th>\n",
       "      <td>10123C</td>\n",
       "      <td>HEARTS WRAPPING TAPE</td>\n",
       "    </tr>\n",
       "    <tr>\n",
       "      <th>4</th>\n",
       "      <td>10124A</td>\n",
       "      <td>SPOTS ON RED BOOKCOVER TAPE</td>\n",
       "    </tr>\n",
       "    <tr>\n",
       "      <th>5</th>\n",
       "      <td>10124G</td>\n",
       "      <td>ARMY CAMO BOOKCOVER TAPE</td>\n",
       "    </tr>\n",
       "    <tr>\n",
       "      <th>6</th>\n",
       "      <td>10125</td>\n",
       "      <td>MINI FUNKY DESIGN TAPES</td>\n",
       "    </tr>\n",
       "    <tr>\n",
       "      <th>7</th>\n",
       "      <td>10133</td>\n",
       "      <td>COLOURING PENCILS BROWN TUBE</td>\n",
       "    </tr>\n",
       "    <tr>\n",
       "      <th>8</th>\n",
       "      <td>10135</td>\n",
       "      <td>COLOURING PENCILS BROWN TUBE</td>\n",
       "    </tr>\n",
       "    <tr>\n",
       "      <th>9</th>\n",
       "      <td>11001</td>\n",
       "      <td>ASSTD DESIGN RACING CAR PEN</td>\n",
       "    </tr>\n",
       "  </tbody>\n",
       "</table>\n",
       "</div>"
      ],
      "text/plain": [
       "  stock_code                   description\n",
       "0      10002   INFLATABLE POLITICAL GLOBE \n",
       "1      10080      GROOVY CACTUS INFLATABLE\n",
       "2      10120                  DOGGY RUBBER\n",
       "3     10123C         HEARTS WRAPPING TAPE \n",
       "4     10124A   SPOTS ON RED BOOKCOVER TAPE\n",
       "5     10124G      ARMY CAMO BOOKCOVER TAPE\n",
       "6      10125       MINI FUNKY DESIGN TAPES\n",
       "7      10133  COLOURING PENCILS BROWN TUBE\n",
       "8      10135  COLOURING PENCILS BROWN TUBE\n",
       "9      11001   ASSTD DESIGN RACING CAR PEN"
      ]
     },
     "execution_count": 6,
     "metadata": {},
     "output_type": "execute_result"
    }
   ],
   "source": [
    "# using the read sql function from python\n",
    "\n",
    "pd.read_sql(query, connect)"
   ]
  },
  {
   "cell_type": "code",
   "execution_count": 7,
   "id": "229a182a-7e3c-42a0-b125-528e076daf65",
   "metadata": {},
   "outputs": [
    {
     "name": "stderr",
     "output_type": "stream",
     "text": [
      "/var/folders/gs/c69h38_15hb4fnkpnc9gvksm0000gn/T/ipykernel_75209/767326483.py:1: UserWarning: pandas only supports SQLAlchemy connectable (engine/connection) or database string URI or sqlite3 DBAPI2 connection. Other DBAPI2 objects are not tested. Please consider using SQLAlchemy.\n",
      "  stock_test = pd.read_sql(query, connect)\n"
     ]
    }
   ],
   "source": [
    "stock_test = pd.read_sql(query, connect)"
   ]
  },
  {
   "cell_type": "code",
   "execution_count": 8,
   "id": "c8268689-99f6-4984-999a-528e4a7c6727",
   "metadata": {},
   "outputs": [
    {
     "data": {
      "text/plain": [
       "pandas.core.frame.DataFrame"
      ]
     },
     "execution_count": 8,
     "metadata": {},
     "output_type": "execute_result"
    }
   ],
   "source": [
    "type(stock_test)"
   ]
  },
  {
   "cell_type": "code",
   "execution_count": 9,
   "id": "f83c56c6-8297-4bbf-9b46-962787a20fae",
   "metadata": {},
   "outputs": [
    {
     "data": {
      "text/html": [
       "<div>\n",
       "<style scoped>\n",
       "    .dataframe tbody tr th:only-of-type {\n",
       "        vertical-align: middle;\n",
       "    }\n",
       "\n",
       "    .dataframe tbody tr th {\n",
       "        vertical-align: top;\n",
       "    }\n",
       "\n",
       "    .dataframe thead th {\n",
       "        text-align: right;\n",
       "    }\n",
       "</style>\n",
       "<table border=\"1\" class=\"dataframe\">\n",
       "  <thead>\n",
       "    <tr style=\"text-align: right;\">\n",
       "      <th></th>\n",
       "      <th>stock_code</th>\n",
       "      <th>description</th>\n",
       "    </tr>\n",
       "  </thead>\n",
       "  <tbody>\n",
       "    <tr>\n",
       "      <th>0</th>\n",
       "      <td>10002</td>\n",
       "      <td>INFLATABLE POLITICAL GLOBE</td>\n",
       "    </tr>\n",
       "    <tr>\n",
       "      <th>1</th>\n",
       "      <td>10080</td>\n",
       "      <td>GROOVY CACTUS INFLATABLE</td>\n",
       "    </tr>\n",
       "    <tr>\n",
       "      <th>2</th>\n",
       "      <td>10120</td>\n",
       "      <td>DOGGY RUBBER</td>\n",
       "    </tr>\n",
       "    <tr>\n",
       "      <th>3</th>\n",
       "      <td>10123C</td>\n",
       "      <td>HEARTS WRAPPING TAPE</td>\n",
       "    </tr>\n",
       "    <tr>\n",
       "      <th>4</th>\n",
       "      <td>10124A</td>\n",
       "      <td>SPOTS ON RED BOOKCOVER TAPE</td>\n",
       "    </tr>\n",
       "  </tbody>\n",
       "</table>\n",
       "</div>"
      ],
      "text/plain": [
       "  stock_code                  description\n",
       "0      10002  INFLATABLE POLITICAL GLOBE \n",
       "1      10080     GROOVY CACTUS INFLATABLE\n",
       "2      10120                 DOGGY RUBBER\n",
       "3     10123C        HEARTS WRAPPING TAPE \n",
       "4     10124A  SPOTS ON RED BOOKCOVER TAPE"
      ]
     },
     "execution_count": 9,
     "metadata": {},
     "output_type": "execute_result"
    }
   ],
   "source": [
    "stock_test.head()"
   ]
  },
  {
   "cell_type": "code",
   "execution_count": 14,
   "id": "1f0b3e8b-22e8-470d-b589-5fb86b92ce37",
   "metadata": {},
   "outputs": [],
   "source": [
    "query = \"\"\"\n",
    "select *\n",
    "from bootcamp.online_transactions\n",
    "limit 10\n",
    "\"\"\""
   ]
  },
  {
   "cell_type": "code",
   "execution_count": 15,
   "id": "f5b0d13e-8f35-4369-bfd4-ad3742d75c9a",
   "metadata": {},
   "outputs": [
    {
     "name": "stderr",
     "output_type": "stream",
     "text": [
      "/var/folders/gs/c69h38_15hb4fnkpnc9gvksm0000gn/T/ipykernel_75209/3793267919.py:1: UserWarning: pandas only supports SQLAlchemy connectable (engine/connection) or database string URI or sqlite3 DBAPI2 connection. Other DBAPI2 objects are not tested. Please consider using SQLAlchemy.\n",
      "  online_transactions_test = pd.read_sql(query, connect)\n"
     ]
    },
    {
     "data": {
      "text/html": [
       "<div>\n",
       "<style scoped>\n",
       "    .dataframe tbody tr th:only-of-type {\n",
       "        vertical-align: middle;\n",
       "    }\n",
       "\n",
       "    .dataframe tbody tr th {\n",
       "        vertical-align: top;\n",
       "    }\n",
       "\n",
       "    .dataframe thead th {\n",
       "        text-align: right;\n",
       "    }\n",
       "</style>\n",
       "<table border=\"1\" class=\"dataframe\">\n",
       "  <thead>\n",
       "    <tr style=\"text-align: right;\">\n",
       "      <th></th>\n",
       "      <th>invoice</th>\n",
       "      <th>stock_code</th>\n",
       "      <th>quantity</th>\n",
       "      <th>invoice_date</th>\n",
       "      <th>price</th>\n",
       "      <th>customer_id</th>\n",
       "      <th>country</th>\n",
       "    </tr>\n",
       "  </thead>\n",
       "  <tbody>\n",
       "    <tr>\n",
       "      <th>0</th>\n",
       "      <td>536370</td>\n",
       "      <td>21791</td>\n",
       "      <td>24</td>\n",
       "      <td>2010-12-01 08:45:00</td>\n",
       "      <td>1.25</td>\n",
       "      <td>u12583</td>\n",
       "      <td>France</td>\n",
       "    </tr>\n",
       "    <tr>\n",
       "      <th>1</th>\n",
       "      <td>536373</td>\n",
       "      <td>82494L</td>\n",
       "      <td>6</td>\n",
       "      <td>2010-12-01 09:02:00</td>\n",
       "      <td>2.55</td>\n",
       "      <td>u1785</td>\n",
       "      <td>United Kingdom</td>\n",
       "    </tr>\n",
       "    <tr>\n",
       "      <th>2</th>\n",
       "      <td>536378</td>\n",
       "      <td>21929</td>\n",
       "      <td>10</td>\n",
       "      <td>2010-12-01 09:37:00</td>\n",
       "      <td>1.95</td>\n",
       "      <td>u14688</td>\n",
       "      <td>United Kingdom</td>\n",
       "    </tr>\n",
       "    <tr>\n",
       "      <th>3</th>\n",
       "      <td>536381</td>\n",
       "      <td>37444A</td>\n",
       "      <td>1</td>\n",
       "      <td>2010-12-01 09:41:00</td>\n",
       "      <td>2.95</td>\n",
       "      <td>u15311</td>\n",
       "      <td>United Kingdom</td>\n",
       "    </tr>\n",
       "    <tr>\n",
       "      <th>4</th>\n",
       "      <td>536381</td>\n",
       "      <td>15056BL</td>\n",
       "      <td>2</td>\n",
       "      <td>2010-12-01 09:41:00</td>\n",
       "      <td>5.95</td>\n",
       "      <td>u15311</td>\n",
       "      <td>United Kingdom</td>\n",
       "    </tr>\n",
       "    <tr>\n",
       "      <th>5</th>\n",
       "      <td>536381</td>\n",
       "      <td>22438</td>\n",
       "      <td>1</td>\n",
       "      <td>2010-12-01 09:41:00</td>\n",
       "      <td>1.95</td>\n",
       "      <td>u15311</td>\n",
       "      <td>United Kingdom</td>\n",
       "    </tr>\n",
       "    <tr>\n",
       "      <th>6</th>\n",
       "      <td>536384</td>\n",
       "      <td>22469</td>\n",
       "      <td>40</td>\n",
       "      <td>2010-12-01 09:53:00</td>\n",
       "      <td>1.45</td>\n",
       "      <td>u18074</td>\n",
       "      <td>United Kingdom</td>\n",
       "    </tr>\n",
       "    <tr>\n",
       "      <th>7</th>\n",
       "      <td>536384</td>\n",
       "      <td>22189</td>\n",
       "      <td>4</td>\n",
       "      <td>2010-12-01 09:53:00</td>\n",
       "      <td>3.95</td>\n",
       "      <td>u18074</td>\n",
       "      <td>United Kingdom</td>\n",
       "    </tr>\n",
       "    <tr>\n",
       "      <th>8</th>\n",
       "      <td>536385</td>\n",
       "      <td>22783</td>\n",
       "      <td>1</td>\n",
       "      <td>2010-12-01 09:56:00</td>\n",
       "      <td>19.95</td>\n",
       "      <td>u1742</td>\n",
       "      <td>United Kingdom</td>\n",
       "    </tr>\n",
       "    <tr>\n",
       "      <th>9</th>\n",
       "      <td>536389</td>\n",
       "      <td>35004C</td>\n",
       "      <td>6</td>\n",
       "      <td>2010-12-01 10:03:00</td>\n",
       "      <td>5.45</td>\n",
       "      <td>u12431</td>\n",
       "      <td>Australia</td>\n",
       "    </tr>\n",
       "  </tbody>\n",
       "</table>\n",
       "</div>"
      ],
      "text/plain": [
       "  invoice stock_code  quantity         invoice_date  price customer_id  \\\n",
       "0  536370      21791        24  2010-12-01 08:45:00   1.25      u12583   \n",
       "1  536373     82494L         6  2010-12-01 09:02:00   2.55       u1785   \n",
       "2  536378      21929        10  2010-12-01 09:37:00   1.95      u14688   \n",
       "3  536381     37444A         1  2010-12-01 09:41:00   2.95      u15311   \n",
       "4  536381    15056BL         2  2010-12-01 09:41:00   5.95      u15311   \n",
       "5  536381      22438         1  2010-12-01 09:41:00   1.95      u15311   \n",
       "6  536384      22469        40  2010-12-01 09:53:00   1.45      u18074   \n",
       "7  536384      22189         4  2010-12-01 09:53:00   3.95      u18074   \n",
       "8  536385      22783         1  2010-12-01 09:56:00  19.95       u1742   \n",
       "9  536389     35004C         6  2010-12-01 10:03:00   5.45      u12431   \n",
       "\n",
       "          country  \n",
       "0          France  \n",
       "1  United Kingdom  \n",
       "2  United Kingdom  \n",
       "3  United Kingdom  \n",
       "4  United Kingdom  \n",
       "5  United Kingdom  \n",
       "6  United Kingdom  \n",
       "7  United Kingdom  \n",
       "8  United Kingdom  \n",
       "9       Australia  "
      ]
     },
     "execution_count": 15,
     "metadata": {},
     "output_type": "execute_result"
    }
   ],
   "source": [
    "online_transactions_test = pd.read_sql(query, connect)\n",
    "online_transactions_test"
   ]
  },
  {
   "cell_type": "code",
   "execution_count": null,
   "id": "78ebf897-cd57-4192-a722-3d61a2ee075d",
   "metadata": {},
   "outputs": [],
   "source": [
    "# close the connection\n",
    "connect.close()"
   ]
  }
 ],
 "metadata": {
  "kernelspec": {
   "display_name": "Python 3 (ipykernel)",
   "language": "python",
   "name": "python3"
  },
  "language_info": {
   "codemirror_mode": {
    "name": "ipython",
    "version": 3
   },
   "file_extension": ".py",
   "mimetype": "text/x-python",
   "name": "python",
   "nbconvert_exporter": "python",
   "pygments_lexer": "ipython3",
   "version": "3.11.3"
  }
 },
 "nbformat": 4,
 "nbformat_minor": 5
}
